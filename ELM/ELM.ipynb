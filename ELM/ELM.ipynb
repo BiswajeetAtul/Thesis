{
 "cells": [
  {
   "cell_type": "code",
   "execution_count": 3,
   "metadata": {},
   "outputs": [],
   "source": [
    "import numpy as np\n",
    "import pandas as pd\n"
   ]
  },
  {
   "cell_type": "code",
   "execution_count": 4,
   "metadata": {},
   "outputs": [
    {
     "output_type": "execute_result",
     "data": {
      "text/plain": "         imdb_id                                          title  \\\n0      tt0057603                        I tre volti della paura   \n1      tt1733125  Dungeons &amp; Dragons: The Book of Vile Darkness   \n2      tt0033045                     The Shop Around the Corner   \n3      tt0113862                             Mr. Holland&#39;s Opus   \n4      tt0086250                                       Scarface   \n...          ...                                            ...   \n14823  tt0219952                                  Lucky Numbers   \n14824  tt1371159                                     Iron Man 2   \n14825  tt0063443                                     Play Dirty   \n14826  tt0039464                                      High Wall   \n14827  tt0235166                               Against All Hope   \n\n                                           plot_synopsis  \\\n0      Note: this synopsis is for the orginal Italian...   \n1      Two thousand years ago, Nhagruul the Foul, a s...   \n2      Matuschek&#39;s, a gift store in Budapest, is the ...   \n3      Glenn Holland, not a morning person by anyone&#39;...   \n4      In May 1980, a Cuban man named Tony Montana (A...   \n...                                                  ...   \n14823  In 1988 Russ Richards (John Travolta), the wea...   \n14824  In Russia, the media covers Tony Stark&#39;s discl...   \n14825  During the North African Campaign in World War...   \n14826  Steven Kenet catches his unfaithful wife in th...   \n14827  Sometime in the 1950s in Chicago a man, Cecil ...   \n\n                                                    tags  split  \\\n0              cult, horror, gothic, murder, atmospheric  train   \n1                                               violence  train   \n2                                               romantic   test   \n3                 inspiring, romantic, stupid, feel-good  train   \n4      cruelty, murder, dramatic, cult, violence, atm...    val   \n...                                                  ...    ...   \n14823                                     comedy, murder   test   \n14824                         good versus evil, violence  train   \n14825                                           anti war  train   \n14826                                             murder   test   \n14827                                     christian film   test   \n\n      synopsis_source  \n0                imdb  \n1                imdb  \n2                imdb  \n3                imdb  \n4                imdb  \n...               ...  \n14823       wikipedia  \n14824       wikipedia  \n14825       wikipedia  \n14826       wikipedia  \n14827       wikipedia  \n\n[14828 rows x 6 columns]",
      "text/html": "<div>\n<style scoped>\n    .dataframe tbody tr th:only-of-type {\n        vertical-align: middle;\n    }\n\n    .dataframe tbody tr th {\n        vertical-align: top;\n    }\n\n    .dataframe thead th {\n        text-align: right;\n    }\n</style>\n<table border=\"1\" class=\"dataframe\">\n  <thead>\n    <tr style=\"text-align: right;\">\n      <th></th>\n      <th>imdb_id</th>\n      <th>title</th>\n      <th>plot_synopsis</th>\n      <th>tags</th>\n      <th>split</th>\n      <th>synopsis_source</th>\n    </tr>\n  </thead>\n  <tbody>\n    <tr>\n      <th>0</th>\n      <td>tt0057603</td>\n      <td>I tre volti della paura</td>\n      <td>Note: this synopsis is for the orginal Italian...</td>\n      <td>cult, horror, gothic, murder, atmospheric</td>\n      <td>train</td>\n      <td>imdb</td>\n    </tr>\n    <tr>\n      <th>1</th>\n      <td>tt1733125</td>\n      <td>Dungeons &amp; Dragons: The Book of Vile Darkness</td>\n      <td>Two thousand years ago, Nhagruul the Foul, a s...</td>\n      <td>violence</td>\n      <td>train</td>\n      <td>imdb</td>\n    </tr>\n    <tr>\n      <th>2</th>\n      <td>tt0033045</td>\n      <td>The Shop Around the Corner</td>\n      <td>Matuschek's, a gift store in Budapest, is the ...</td>\n      <td>romantic</td>\n      <td>test</td>\n      <td>imdb</td>\n    </tr>\n    <tr>\n      <th>3</th>\n      <td>tt0113862</td>\n      <td>Mr. Holland's Opus</td>\n      <td>Glenn Holland, not a morning person by anyone'...</td>\n      <td>inspiring, romantic, stupid, feel-good</td>\n      <td>train</td>\n      <td>imdb</td>\n    </tr>\n    <tr>\n      <th>4</th>\n      <td>tt0086250</td>\n      <td>Scarface</td>\n      <td>In May 1980, a Cuban man named Tony Montana (A...</td>\n      <td>cruelty, murder, dramatic, cult, violence, atm...</td>\n      <td>val</td>\n      <td>imdb</td>\n    </tr>\n    <tr>\n      <th>...</th>\n      <td>...</td>\n      <td>...</td>\n      <td>...</td>\n      <td>...</td>\n      <td>...</td>\n      <td>...</td>\n    </tr>\n    <tr>\n      <th>14823</th>\n      <td>tt0219952</td>\n      <td>Lucky Numbers</td>\n      <td>In 1988 Russ Richards (John Travolta), the wea...</td>\n      <td>comedy, murder</td>\n      <td>test</td>\n      <td>wikipedia</td>\n    </tr>\n    <tr>\n      <th>14824</th>\n      <td>tt1371159</td>\n      <td>Iron Man 2</td>\n      <td>In Russia, the media covers Tony Stark's discl...</td>\n      <td>good versus evil, violence</td>\n      <td>train</td>\n      <td>wikipedia</td>\n    </tr>\n    <tr>\n      <th>14825</th>\n      <td>tt0063443</td>\n      <td>Play Dirty</td>\n      <td>During the North African Campaign in World War...</td>\n      <td>anti war</td>\n      <td>train</td>\n      <td>wikipedia</td>\n    </tr>\n    <tr>\n      <th>14826</th>\n      <td>tt0039464</td>\n      <td>High Wall</td>\n      <td>Steven Kenet catches his unfaithful wife in th...</td>\n      <td>murder</td>\n      <td>test</td>\n      <td>wikipedia</td>\n    </tr>\n    <tr>\n      <th>14827</th>\n      <td>tt0235166</td>\n      <td>Against All Hope</td>\n      <td>Sometime in the 1950s in Chicago a man, Cecil ...</td>\n      <td>christian film</td>\n      <td>test</td>\n      <td>wikipedia</td>\n    </tr>\n  </tbody>\n</table>\n<p>14828 rows × 6 columns</p>\n</div>"
     },
     "metadata": {},
     "execution_count": 4
    }
   ],
   "source": [
    "mpstDF= pd.read_csv(\"mpst.csv\")\n",
    "mpstDF"
   ]
  },
  {
   "cell_type": "code",
   "execution_count": 5,
   "metadata": {
    "tags": []
   },
   "outputs": [
    {
     "output_type": "stream",
     "name": "stdout",
     "text": "Shape Train (9489, 6)\nShape Validation (2373, 6)\nShape Test (2966, 6)\n"
    }
   ],
   "source": [
    "final_mpstDF_train=mpstDF[mpstDF[\"split\"]==\"train\"]\n",
    "final_mpstDF_validation=mpstDF[mpstDF[\"split\"]==\"val\"]\n",
    "final_mpstDF_test=mpstDF[mpstDF[\"split\"]==\"test\"]\n",
    "print(\"Shape Train\",final_mpstDF_train.shape)\n",
    "print(\"Shape Validation\",final_mpstDF_validation.shape)\n",
    "print(\"Shape Test\",final_mpstDF_test.shape)"
   ]
  },
  {
   "cell_type": "code",
   "execution_count": 15,
   "metadata": {},
   "outputs": [
    {
     "output_type": "execute_result",
     "data": {
      "text/plain": "Int64Index([    0,     1,     3,     6,     7,     8,     9,    10,    11,\n               12,\n            ...\n            14810, 14811, 14813, 14815, 14817, 14818, 14820, 14822, 14824,\n            14825],\n           dtype=&#39;int64&#39;, length=9489)"
     },
     "metadata": {},
     "execution_count": 15
    }
   ],
   "source": [
    "final_mpstDF_train.index"
   ]
  },
  {
   "cell_type": "code",
   "execution_count": 8,
   "metadata": {},
   "outputs": [
    {
     "output_type": "execute_result",
     "data": {
      "text/plain": "Int64Index([    0,     1,     3,     6,     7,     8,     9,    10,    11,\n               12,\n            ...\n            14810, 14811, 14813, 14815, 14817, 14818, 14820, 14822, 14824,\n            14825],\n           dtype=&#39;int64&#39;, length=9489)"
     },
     "metadata": {},
     "execution_count": 8
    }
   ],
   "source": [
    "final_mpstDF_validation.index"
   ]
  },
  {
   "cell_type": "code",
   "execution_count": 9,
   "metadata": {},
   "outputs": [
    {
     "output_type": "execute_result",
     "data": {
      "text/plain": "Int64Index([    2,    15,    19,    24,    27,    31,    35,    37,    41,\n               42,\n            ...\n            14776, 14801, 14806, 14808, 14814, 14816, 14819, 14823, 14826,\n            14827],\n           dtype=&#39;int64&#39;, length=2966)"
     },
     "metadata": {},
     "execution_count": 9
    }
   ],
   "source": [
    "final_mpstDF_test.index"
   ]
  },
  {
   "cell_type": "code",
   "execution_count": 10,
   "metadata": {},
   "outputs": [],
   "source": [
    "#READING THE BERT EMBEDDINGS AND Y MATRIX\n",
    "bert_embedding=np.load(\"D:\\CodeRepo\\Thesis\\Thesis\\BERT\\embeddings.npz\")\n",
    "label_values=np.load(\"D:\\CodeRepo\\Thesis\\Thesis\\EDA\\Y.npz\")"
   ]
  },
  {
   "cell_type": "code",
   "execution_count": 11,
   "metadata": {},
   "outputs": [],
   "source": [
    "type1_BERT_Embeddings=bert_embedding[\"t1\"]\n",
    "type2_BERT_Embeddings=bert_embedding[\"t2\"]\n",
    "label_values=label_values[\"arr_0\"]"
   ]
  },
  {
   "cell_type": "code",
   "execution_count": 12,
   "metadata": {},
   "outputs": [
    {
     "output_type": "execute_result",
     "data": {
      "text/plain": "(14828, 768)"
     },
     "metadata": {},
     "execution_count": 12
    }
   ],
   "source": [
    "type1_BERT_Embeddings.shape"
   ]
  },
  {
   "cell_type": "code",
   "execution_count": 13,
   "metadata": {},
   "outputs": [
    {
     "output_type": "execute_result",
     "data": {
      "text/plain": "(14828, 71)"
     },
     "metadata": {},
     "execution_count": 13
    }
   ],
   "source": [
    "label_values.shape"
   ]
  },
  {
   "cell_type": "code",
   "execution_count": 20,
   "metadata": {},
   "outputs": [],
   "source": [
    "def get_partition_Embeddings(x_t1,x_t2,y,df,partition_nm):\n",
    "    _df=df[df[\"split\"]==partition_nm]\n",
    "    index_list=list(_df.index)\n",
    "    temp_array_x_t1=[]\n",
    "    temp_array_x_t2=[]\n",
    "    temp_array_y=[]\n",
    "    for index in index_list:\n",
    "        temp_array_x_t1.append(x_t1[index,:])\n",
    "        temp_array_x_t2.append(x_t2[index,:])\n",
    "        temp_array_y.append(y[index,:])\n",
    "    temp_array_x_t1=np.array(temp_array_x_t1)\n",
    "    temp_array_x_t2=np.array(temp_array_x_t2)\n",
    "    temp_array_y=np.array(temp_array_y)\n",
    "    return temp_array_x_t1,temp_array_x_t2, temp_array_y"
   ]
  },
  {
   "cell_type": "code",
   "execution_count": 23,
   "metadata": {},
   "outputs": [],
   "source": [
    "# FOR TRAIN\n",
    "type1_BERT_Embeddings_Train,type2_BERT_Embeddings_Train,label_values_Train=get_partition_Embeddings(type1_BERT_Embeddings,type2_BERT_Embeddings,label_values,mpstDF,\"train\")\n",
    "# FOR VALIDATION\n",
    "type1_BERT_Embeddings_Val,type2_BERT_Embeddings_Val,label_values_Val=get_partition_Embeddings(type1_BERT_Embeddings,type2_BERT_Embeddings,label_values,mpstDF,\"val\")\n",
    "# FOR TEST\n",
    "type1_BERT_Embeddings_Test,type2_BERT_Embeddings_Test,label_values_Test=get_partition_Embeddings(type1_BERT_Embeddings,type2_BERT_Embeddings,label_values,mpstDF,\"test\")"
   ]
  },
  {
   "cell_type": "code",
   "execution_count": 26,
   "metadata": {
    "tags": []
   },
   "outputs": [
    {
     "output_type": "stream",
     "name": "stdout",
     "text": "(9489, 768)\n(9489, 768)\n(2373, 768)\n(2373, 768)\n(2966, 768)\n(2966, 768)\n(9489, 71)\n(2373, 71)\n(2966, 71)\n"
    }
   ],
   "source": [
    "# SEPARTAING THE TRAIN TEST AND VALIDATION ROWS\n",
    "print(type1_BERT_Embeddings_Train.shape)\n",
    "print(type2_BERT_Embeddings_Train.shape)\n",
    "print(type1_BERT_Embeddings_Val.shape)\n",
    "print(type2_BERT_Embeddings_Val.shape)\n",
    "print(type1_BERT_Embeddings_Test.shape)\n",
    "print(type2_BERT_Embeddings_Test.shape)\n",
    "print(label_values_Train.shape)\n",
    "print(label_values_Val.shape)\n",
    "print(label_values_Test.shape)\n"
   ]
  },
  {
   "cell_type": "code",
   "execution_count": null,
   "metadata": {},
   "outputs": [],
   "source": [
    "def _sigmoid(x):\n",
    "    return 1. / (1. + np.exp(-x))\n",
    "class ELM_MultiLabel:\n",
    "    def __init__(self, input_nodes, hidden_nodes, output_nodes):\n",
    "        self.__input_nodes=input_nodes\n",
    "        self.__hidden_nodes=hidden_nodes\n",
    "        self.__output_nodes=output_nodes\n",
    "        #Type 1\n",
    "        self.__beta = np.random.uniform(-1.,1.,size=(self.__hidden_nodes, self.__output_nodes))\n",
    "        self.__alpha = np.random.uniform(-1.,1.,size=(self.__input_nodes, self.__hidden_nodes))\n",
    "        self.__bias = np.zeros(shape=(self.__n_hidden_nodes,))\n",
    "        #Type 2\n",
    "        # self.__beta = np.random.normal(-1.,1.,size=(self.__hidden_nodes, self.__output_nodes))\n",
    "        # self.__alpha = np.random.normal(-1.,1.,size=(self.__input_nodes, self.__hidden_nodes))\n",
    "        # self.__bias = np.random.normal(shape=(self.__n_hidden_nodes,)) \n",
    "        self.__activation= lambda x: 1. / (1. + np.exp(-x)) # Sigmoid Function\n",
    "\n",
    "    def fit(self, train_x, train_y, verbose=False):\n",
    "        if verbose:\n",
    "            print(\"train_x shape:\", train_x.shape)\n",
    "            print(\"train_y shape:\", train_y.shape)\n",
    "        # 1 Propagate data from Input to hidden Layer\n",
    "        if verbose:\n",
    "            print(\"Propagate data from Input to hidden Layer\")\n",
    "        inp= np.dot(train_x , self.__alpha)\n",
    "        if verbose:\n",
    "            print(inp)\n",
    "            print(\"Adding Biases\")\n",
    "        inp = inp +  + self.__bias\n",
    "        if verbose:\n",
    "            print(inp)\n",
    "            print(\"Applyin activation function\")\n",
    "        inp_activation= np.apply_along_axis(self.__activation, 1, inp)\n",
    "        # This is the H matrix getting its Moore Penrose Inverse\n",
    "        if verbose:\n",
    "            print(inp_activation)\n",
    "            print(\"Getting the Generalized Moore Penrose Inverse\")\n",
    "        generalizedInverse= np.linalg.pinv(inp_activation)\n",
    "        if verbose:\n",
    "            print(generalizedInverse)\n",
    "            print(\"Finding Beta, output weights\")\n",
    "        # Now find output weight matrix Beta by\n",
    "        self.__beta= np.dot(generalizedInverse,train_y)\n",
    "    \n",
    "    def predict(test):\n",
    "        # the output will be computed for the input,\n",
    "        # need to add the evaluation metrics as well\n",
    "\n"
   ]
  }
 ],
 "metadata": {
  "kernelspec": {
   "display_name": "Python 3",
   "language": "python",
   "name": "python3"
  },
  "language_info": {
   "codemirror_mode": {
    "name": "ipython",
    "version": 3
   },
   "file_extension": ".py",
   "mimetype": "text/x-python",
   "name": "python",
   "nbconvert_exporter": "python",
   "pygments_lexer": "ipython3",
   "version": "3.7.7-final"
  }
 },
 "nbformat": 4,
 "nbformat_minor": 4
}