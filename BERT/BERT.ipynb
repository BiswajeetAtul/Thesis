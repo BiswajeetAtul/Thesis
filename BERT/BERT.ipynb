{
 "cells": [
  {
   "cell_type": "code",
   "execution_count": 1,
   "metadata": {},
   "outputs": [],
   "source": [
    "import collections\n",
    "import json\n",
    "import re\n",
    "import string\n",
    "\n",
    "import nltk\n",
    "import numpy as np\n",
    "import pandas as pd\n",
    "from bs4 import BeautifulSoup\n",
    "from gensim.parsing.preprocessing import (preprocess_string, remove_stopwords,\n",
    "                                          strip_punctuation, strip_tags)\n",
    "from nltk.corpus import stopwords\n",
    "from nltk.util import ngrams  # function for making ngrams\n",
    "from numpy import asarray, save, savez_compressed\n",
    "from sklearn.feature_extraction.text import CountVectorizer"
   ]
  },
  {
   "cell_type": "code",
   "execution_count": 2,
   "metadata": {},
   "outputs": [
    {
     "output_type": "execute_result",
     "data": {
      "text/plain": "         imdb_id                                          title  \\\n0      tt0057603                        I tre volti della paura   \n1      tt1733125  Dungeons &amp; Dragons: The Book of Vile Darkness   \n2      tt0033045                     The Shop Around the Corner   \n3      tt0113862                             Mr. Holland&#39;s Opus   \n4      tt0086250                                       Scarface   \n...          ...                                            ...   \n14823  tt0219952                                  Lucky Numbers   \n14824  tt1371159                                     Iron Man 2   \n14825  tt0063443                                     Play Dirty   \n14826  tt0039464                                      High Wall   \n14827  tt0235166                               Against All Hope   \n\n                                           plot_synopsis  \\\n0      Note: this synopsis is for the orginal Italian...   \n1      Two thousand years ago, Nhagruul the Foul, a s...   \n2      Matuschek&#39;s, a gift store in Budapest, is the ...   \n3      Glenn Holland, not a morning person by anyone&#39;...   \n4      In May 1980, a Cuban man named Tony Montana (A...   \n...                                                  ...   \n14823  In 1988 Russ Richards (John Travolta), the wea...   \n14824  In Russia, the media covers Tony Stark&#39;s discl...   \n14825  During the North African Campaign in World War...   \n14826  Steven Kenet catches his unfaithful wife in th...   \n14827  Sometime in the 1950s in Chicago a man, Cecil ...   \n\n                                                    tags  split  \\\n0              cult, horror, gothic, murder, atmospheric  train   \n1                                               violence  train   \n2                                               romantic   test   \n3                 inspiring, romantic, stupid, feel-good  train   \n4      cruelty, murder, dramatic, cult, violence, atm...    val   \n...                                                  ...    ...   \n14823                                     comedy, murder   test   \n14824                         good versus evil, violence  train   \n14825                                           anti war  train   \n14826                                             murder   test   \n14827                                     christian film   test   \n\n      synopsis_source  \n0                imdb  \n1                imdb  \n2                imdb  \n3                imdb  \n4                imdb  \n...               ...  \n14823       wikipedia  \n14824       wikipedia  \n14825       wikipedia  \n14826       wikipedia  \n14827       wikipedia  \n\n[14828 rows x 6 columns]",
      "text/html": "<div>\n<style scoped>\n    .dataframe tbody tr th:only-of-type {\n        vertical-align: middle;\n    }\n\n    .dataframe tbody tr th {\n        vertical-align: top;\n    }\n\n    .dataframe thead th {\n        text-align: right;\n    }\n</style>\n<table border=\"1\" class=\"dataframe\">\n  <thead>\n    <tr style=\"text-align: right;\">\n      <th></th>\n      <th>imdb_id</th>\n      <th>title</th>\n      <th>plot_synopsis</th>\n      <th>tags</th>\n      <th>split</th>\n      <th>synopsis_source</th>\n    </tr>\n  </thead>\n  <tbody>\n    <tr>\n      <th>0</th>\n      <td>tt0057603</td>\n      <td>I tre volti della paura</td>\n      <td>Note: this synopsis is for the orginal Italian...</td>\n      <td>cult, horror, gothic, murder, atmospheric</td>\n      <td>train</td>\n      <td>imdb</td>\n    </tr>\n    <tr>\n      <th>1</th>\n      <td>tt1733125</td>\n      <td>Dungeons &amp; Dragons: The Book of Vile Darkness</td>\n      <td>Two thousand years ago, Nhagruul the Foul, a s...</td>\n      <td>violence</td>\n      <td>train</td>\n      <td>imdb</td>\n    </tr>\n    <tr>\n      <th>2</th>\n      <td>tt0033045</td>\n      <td>The Shop Around the Corner</td>\n      <td>Matuschek's, a gift store in Budapest, is the ...</td>\n      <td>romantic</td>\n      <td>test</td>\n      <td>imdb</td>\n    </tr>\n    <tr>\n      <th>3</th>\n      <td>tt0113862</td>\n      <td>Mr. Holland's Opus</td>\n      <td>Glenn Holland, not a morning person by anyone'...</td>\n      <td>inspiring, romantic, stupid, feel-good</td>\n      <td>train</td>\n      <td>imdb</td>\n    </tr>\n    <tr>\n      <th>4</th>\n      <td>tt0086250</td>\n      <td>Scarface</td>\n      <td>In May 1980, a Cuban man named Tony Montana (A...</td>\n      <td>cruelty, murder, dramatic, cult, violence, atm...</td>\n      <td>val</td>\n      <td>imdb</td>\n    </tr>\n    <tr>\n      <th>...</th>\n      <td>...</td>\n      <td>...</td>\n      <td>...</td>\n      <td>...</td>\n      <td>...</td>\n      <td>...</td>\n    </tr>\n    <tr>\n      <th>14823</th>\n      <td>tt0219952</td>\n      <td>Lucky Numbers</td>\n      <td>In 1988 Russ Richards (John Travolta), the wea...</td>\n      <td>comedy, murder</td>\n      <td>test</td>\n      <td>wikipedia</td>\n    </tr>\n    <tr>\n      <th>14824</th>\n      <td>tt1371159</td>\n      <td>Iron Man 2</td>\n      <td>In Russia, the media covers Tony Stark's discl...</td>\n      <td>good versus evil, violence</td>\n      <td>train</td>\n      <td>wikipedia</td>\n    </tr>\n    <tr>\n      <th>14825</th>\n      <td>tt0063443</td>\n      <td>Play Dirty</td>\n      <td>During the North African Campaign in World War...</td>\n      <td>anti war</td>\n      <td>train</td>\n      <td>wikipedia</td>\n    </tr>\n    <tr>\n      <th>14826</th>\n      <td>tt0039464</td>\n      <td>High Wall</td>\n      <td>Steven Kenet catches his unfaithful wife in th...</td>\n      <td>murder</td>\n      <td>test</td>\n      <td>wikipedia</td>\n    </tr>\n    <tr>\n      <th>14827</th>\n      <td>tt0235166</td>\n      <td>Against All Hope</td>\n      <td>Sometime in the 1950s in Chicago a man, Cecil ...</td>\n      <td>christian film</td>\n      <td>test</td>\n      <td>wikipedia</td>\n    </tr>\n  </tbody>\n</table>\n<p>14828 rows × 6 columns</p>\n</div>"
     },
     "metadata": {},
     "execution_count": 2
    }
   ],
   "source": [
    "mpstDF= pd.read_csv(\"mpst.csv\")\n",
    "mpstDF\n"
   ]
  },
  {
   "cell_type": "code",
   "execution_count": 3,
   "metadata": {},
   "outputs": [],
   "source": [
    "def decontracted(phrase):\n",
    "    # specific\n",
    "    phrase = re.sub(r\"won't\", \"will not\", phrase)\n",
    "    phrase = re.sub(r\"can't\", \"can not\", phrase)\n",
    "    phrase = re.sub(r\"couldn't\", \"could not\", phrase)\n",
    "    phrase = re.sub(r\"wouldn't\", \"would not\", phrase)\n",
    "    phrase = re.sub(r\"shouldn't\", \"should not\", phrase)\n",
    "    phrase = re.sub(r\"don't\", \"do not\", phrase)\n",
    "    phrase = re.sub(r\"doesn't\", \"does not\", phrase)\n",
    "    phrase = re.sub(r\"haven't\", \"have not\", phrase)\n",
    "    phrase = re.sub(r\"hasn't\", \"has not\", phrase)\n",
    "    phrase = re.sub(r\"ain't\", \"not\", phrase)\n",
    "    phrase = re.sub(r\"hadn't\", \"had not\", phrase)\n",
    "    phrase = re.sub(r\"didn't\", \"did not\", phrase)\n",
    "    phrase = re.sub(r\"wasn't\", \"was not\", phrase)\n",
    "    phrase = re.sub(r\"aren't\", \"are not\", phrase)\n",
    "    phrase = re.sub(r\"isn't\", \"is not\", phrase)\n",
    "\n",
    "    # general\n",
    "    phrase = re.sub(r\"n\\'t\", \" not\", phrase)\n",
    "    phrase = re.sub(r\"\\'re\", \" are\", phrase)\n",
    "    phrase = re.sub(r\"\\'s\", \" is\", phrase)\n",
    "    phrase = re.sub(r\"\\'d\", \" would\", phrase)\n",
    "    phrase = re.sub(r\"\\'ll\", \" will\", phrase)\n",
    "    phrase = re.sub(r\"\\'t\", \" not\", phrase)\n",
    "    phrase = re.sub(r\"\\'ve\", \" have\", phrase)\n",
    "    phrase = re.sub(r\"\\'m\", \" am\", phrase)\n",
    "    return phrase\n",
    "\n",
    "# stop_words = stopwords.words('english')\n"
   ]
  },
  {
   "cell_type": "code",
   "execution_count": 4,
   "metadata": {},
   "outputs": [],
   "source": [
    "mpstDF_processsed=mpstDF.copy()\n",
    "# Type 1: Decontracted Text, The puncutation and stop words are still there\n",
    "mpstDF_processsed[\"processed_synopsis_t1\"]=mpstDF_processsed[\"plot_synopsis\"].apply(lambda x: decontracted(\" \".join(preprocess_string(x, [lambda x: x.lower(), strip_tags]))))\n",
    "# Type 2 Decontracted Text Stop Words Removed\n",
    "mpstDF_processsed[\"processed_synopsis_t2\"]=mpstDF_processsed[\"plot_synopsis\"].apply(lambda x: decontracted(\" \".join(preprocess_string(x, [lambda x: x.lower(), strip_tags,remove_stopwords]))))"
   ]
  },
  {
   "cell_type": "code",
   "execution_count": 5,
   "metadata": {},
   "outputs": [
    {
     "output_type": "execute_result",
     "data": {
      "text/plain": "         imdb_id                                          title  \\\n0      tt0057603                        I tre volti della paura   \n1      tt1733125  Dungeons &amp; Dragons: The Book of Vile Darkness   \n2      tt0033045                     The Shop Around the Corner   \n3      tt0113862                             Mr. Holland&#39;s Opus   \n4      tt0086250                                       Scarface   \n...          ...                                            ...   \n14823  tt0219952                                  Lucky Numbers   \n14824  tt1371159                                     Iron Man 2   \n14825  tt0063443                                     Play Dirty   \n14826  tt0039464                                      High Wall   \n14827  tt0235166                               Against All Hope   \n\n                                           plot_synopsis  \\\n0      Note: this synopsis is for the orginal Italian...   \n1      Two thousand years ago, Nhagruul the Foul, a s...   \n2      Matuschek&#39;s, a gift store in Budapest, is the ...   \n3      Glenn Holland, not a morning person by anyone&#39;...   \n4      In May 1980, a Cuban man named Tony Montana (A...   \n...                                                  ...   \n14823  In 1988 Russ Richards (John Travolta), the wea...   \n14824  In Russia, the media covers Tony Stark&#39;s discl...   \n14825  During the North African Campaign in World War...   \n14826  Steven Kenet catches his unfaithful wife in th...   \n14827  Sometime in the 1950s in Chicago a man, Cecil ...   \n\n                                                    tags  split  \\\n0              cult, horror, gothic, murder, atmospheric  train   \n1                                               violence  train   \n2                                               romantic   test   \n3                 inspiring, romantic, stupid, feel-good  train   \n4      cruelty, murder, dramatic, cult, violence, atm...    val   \n...                                                  ...    ...   \n14823                                     comedy, murder   test   \n14824                         good versus evil, violence  train   \n14825                                           anti war  train   \n14826                                             murder   test   \n14827                                     christian film   test   \n\n      synopsis_source                              processed_synopsis_t1  \\\n0                imdb  note: this synopsis is for the orginal italian...   \n1                imdb  two thousand years ago, nhagruul the foul, a s...   \n2                imdb  matuschek is, a gift store in budapest, is the...   \n3                imdb  glenn holland, not a morning person by anyone ...   \n4                imdb  in may 1980, a cuban man named tony montana (a...   \n...               ...                                                ...   \n14823       wikipedia  in 1988 russ richards (john travolta), the wea...   \n14824       wikipedia  in russia, the media covers tony stark is disc...   \n14825       wikipedia  during the north african campaign in world war...   \n14826       wikipedia  steven kenet catches his unfaithful wife in th...   \n14827       wikipedia  sometime in the 1950s in chicago a man, cecil ...   \n\n                                   processed_synopsis_t2  \n0      note: synopsis orginal italian release segment...  \n1      thousand years ago, nhagruul foul, sorcerer re...  \n2      matuschek is, gift store budapest, workplace a...  \n3      glenn holland, morning person anyone is standa...  \n4      1980, cuban man named tony montana (al pacino)...  \n...                                                  ...  \n14823  1988 russ richards (john travolta), weatherman...  \n14824  russia, media covers tony stark is disclosure ...  \n14825  north african campaign world war ii, captain d...  \n14826  steven kenet catches unfaithful wife apartment...  \n14827  1950s chicago man, cecil moe (michael madsen) ...  \n\n[14828 rows x 8 columns]",
      "text/html": "<div>\n<style scoped>\n    .dataframe tbody tr th:only-of-type {\n        vertical-align: middle;\n    }\n\n    .dataframe tbody tr th {\n        vertical-align: top;\n    }\n\n    .dataframe thead th {\n        text-align: right;\n    }\n</style>\n<table border=\"1\" class=\"dataframe\">\n  <thead>\n    <tr style=\"text-align: right;\">\n      <th></th>\n      <th>imdb_id</th>\n      <th>title</th>\n      <th>plot_synopsis</th>\n      <th>tags</th>\n      <th>split</th>\n      <th>synopsis_source</th>\n      <th>processed_synopsis_t1</th>\n      <th>processed_synopsis_t2</th>\n    </tr>\n  </thead>\n  <tbody>\n    <tr>\n      <th>0</th>\n      <td>tt0057603</td>\n      <td>I tre volti della paura</td>\n      <td>Note: this synopsis is for the orginal Italian...</td>\n      <td>cult, horror, gothic, murder, atmospheric</td>\n      <td>train</td>\n      <td>imdb</td>\n      <td>note: this synopsis is for the orginal italian...</td>\n      <td>note: synopsis orginal italian release segment...</td>\n    </tr>\n    <tr>\n      <th>1</th>\n      <td>tt1733125</td>\n      <td>Dungeons &amp; Dragons: The Book of Vile Darkness</td>\n      <td>Two thousand years ago, Nhagruul the Foul, a s...</td>\n      <td>violence</td>\n      <td>train</td>\n      <td>imdb</td>\n      <td>two thousand years ago, nhagruul the foul, a s...</td>\n      <td>thousand years ago, nhagruul foul, sorcerer re...</td>\n    </tr>\n    <tr>\n      <th>2</th>\n      <td>tt0033045</td>\n      <td>The Shop Around the Corner</td>\n      <td>Matuschek's, a gift store in Budapest, is the ...</td>\n      <td>romantic</td>\n      <td>test</td>\n      <td>imdb</td>\n      <td>matuschek is, a gift store in budapest, is the...</td>\n      <td>matuschek is, gift store budapest, workplace a...</td>\n    </tr>\n    <tr>\n      <th>3</th>\n      <td>tt0113862</td>\n      <td>Mr. Holland's Opus</td>\n      <td>Glenn Holland, not a morning person by anyone'...</td>\n      <td>inspiring, romantic, stupid, feel-good</td>\n      <td>train</td>\n      <td>imdb</td>\n      <td>glenn holland, not a morning person by anyone ...</td>\n      <td>glenn holland, morning person anyone is standa...</td>\n    </tr>\n    <tr>\n      <th>4</th>\n      <td>tt0086250</td>\n      <td>Scarface</td>\n      <td>In May 1980, a Cuban man named Tony Montana (A...</td>\n      <td>cruelty, murder, dramatic, cult, violence, atm...</td>\n      <td>val</td>\n      <td>imdb</td>\n      <td>in may 1980, a cuban man named tony montana (a...</td>\n      <td>1980, cuban man named tony montana (al pacino)...</td>\n    </tr>\n    <tr>\n      <th>...</th>\n      <td>...</td>\n      <td>...</td>\n      <td>...</td>\n      <td>...</td>\n      <td>...</td>\n      <td>...</td>\n      <td>...</td>\n      <td>...</td>\n    </tr>\n    <tr>\n      <th>14823</th>\n      <td>tt0219952</td>\n      <td>Lucky Numbers</td>\n      <td>In 1988 Russ Richards (John Travolta), the wea...</td>\n      <td>comedy, murder</td>\n      <td>test</td>\n      <td>wikipedia</td>\n      <td>in 1988 russ richards (john travolta), the wea...</td>\n      <td>1988 russ richards (john travolta), weatherman...</td>\n    </tr>\n    <tr>\n      <th>14824</th>\n      <td>tt1371159</td>\n      <td>Iron Man 2</td>\n      <td>In Russia, the media covers Tony Stark's discl...</td>\n      <td>good versus evil, violence</td>\n      <td>train</td>\n      <td>wikipedia</td>\n      <td>in russia, the media covers tony stark is disc...</td>\n      <td>russia, media covers tony stark is disclosure ...</td>\n    </tr>\n    <tr>\n      <th>14825</th>\n      <td>tt0063443</td>\n      <td>Play Dirty</td>\n      <td>During the North African Campaign in World War...</td>\n      <td>anti war</td>\n      <td>train</td>\n      <td>wikipedia</td>\n      <td>during the north african campaign in world war...</td>\n      <td>north african campaign world war ii, captain d...</td>\n    </tr>\n    <tr>\n      <th>14826</th>\n      <td>tt0039464</td>\n      <td>High Wall</td>\n      <td>Steven Kenet catches his unfaithful wife in th...</td>\n      <td>murder</td>\n      <td>test</td>\n      <td>wikipedia</td>\n      <td>steven kenet catches his unfaithful wife in th...</td>\n      <td>steven kenet catches unfaithful wife apartment...</td>\n    </tr>\n    <tr>\n      <th>14827</th>\n      <td>tt0235166</td>\n      <td>Against All Hope</td>\n      <td>Sometime in the 1950s in Chicago a man, Cecil ...</td>\n      <td>christian film</td>\n      <td>test</td>\n      <td>wikipedia</td>\n      <td>sometime in the 1950s in chicago a man, cecil ...</td>\n      <td>1950s chicago man, cecil moe (michael madsen) ...</td>\n    </tr>\n  </tbody>\n</table>\n<p>14828 rows × 8 columns</p>\n</div>"
     },
     "metadata": {},
     "execution_count": 5
    }
   ],
   "source": [
    "mpstDF_processsed"
   ]
  },
  {
   "cell_type": "code",
   "execution_count": 6,
   "metadata": {},
   "outputs": [
    {
     "output_type": "execute_result",
     "data": {
      "text/plain": "&#39;Two thousand years ago, Nhagruul the Foul, a sorcerer who reveled in corrupting the innocent and the spread of despair, neared the end of his mortal days and was dismayed. Consumed by hatred for the living, Nhagruul sold his soul to the demon Lords of the abyss so that his malign spirit would survive. In an excruciating ritual, Nhagrulls skin was flayed into pages, his bones hammered into a cover, and his diseased blood became the ink to pen a book most vile. Creatures vile and depraved rose from every pit and unclean barrow to partake in the fever of destruction. The kingdoms of Karkoth were consumed by this plague of evil until an order of holy warriors arose from the ashes. The Knights of the New Sun swore an oath to resurrect hope in the land. The purity of their hearts was so great that Pelor, the God of Light, gave the Knights powerful amulets with which to channel his power. Transcendent with divine might, the Knights of the New Sun pierced the shadow that had darkened the land for twelve hundred years and cast it asunder. But not all were awed by their glory. The disciples of Nhagruul disassembled the book and bribed three greedy souls to hide the pieces until they could be retrieved. The ink was discovered and destroyed but, despite years of searching, the cover and pages were never found. Peace ruled the land for centuries and the Knights got lost in the light of their own glory. As memory of the awful events faded so did the power of servants of Pelor. They unwittingly abandoned themselves in the incorrect belief that the Book of Vile Darkness could never again be made whole.Now, the remaining pieces have been discovered, and an ancient evil is attempting to bring them together and restore the relic and the evil it brought. But at the same time a potential new paladin has been named to the Knights of the New Sun to attempt to renew their power to fight this evil. But, to do so, he may need to go against all that he has held dear, risking more that just his own soul in his quest to destroy the evil that surrounds him at every turn.&#39;"
     },
     "metadata": {},
     "execution_count": 6
    }
   ],
   "source": [
    "mpstDF_processsed[\"plot_synopsis\"][1]"
   ]
  },
  {
   "cell_type": "code",
   "execution_count": null,
   "metadata": {},
   "outputs": [],
   "source": []
  }
 ],
 "metadata": {
  "kernelspec": {
   "name": "Python 3.7.9 64-bit ('Thesis': conda)",
   "display_name": "Python 3.7.9 64-bit ('Thesis': conda)",
   "metadata": {
    "interpreter": {
     "hash": "870dc015ab544cf4fd4c91e2f8042f40253e24aac5eeb5e28336055566efd434"
    }
   }
  },
  "language_info": {
   "codemirror_mode": {
    "name": "ipython",
    "version": 3
   },
   "file_extension": ".py",
   "mimetype": "text/x-python",
   "name": "python",
   "nbconvert_exporter": "python",
   "pygments_lexer": "ipython3",
   "version": "3.7.9-final"
  }
 },
 "nbformat": 4,
 "nbformat_minor": 4
}