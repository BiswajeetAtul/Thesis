{
 "cells": [
  {
   "cell_type": "code",
   "execution_count": 1,
   "metadata": {},
   "outputs": [],
   "source": [
    "import collections\n",
    "import json\n",
    "import re\n",
    "import string\n",
    "\n",
    "import nltk\n",
    "import numpy as np\n",
    "import pandas as pd\n",
    "from bs4 import BeautifulSoup\n",
    "from gensim.parsing.preprocessing import (preprocess_string, remove_stopwords,\n",
    "                                          strip_punctuation, strip_tags)\n",
    "from nltk.corpus import stopwords\n",
    "from nltk.util import ngrams  # function for making ngrams\n",
    "from numpy import asarray, save, savez_compressed\n",
    "from sklearn.feature_extraction.text import CountVectorizer"
   ]
  },
  {
   "cell_type": "code",
   "execution_count": 2,
   "metadata": {},
   "outputs": [
    {
     "output_type": "execute_result",
     "data": {
      "text/plain": "False"
     },
     "metadata": {},
     "execution_count": 2
    }
   ],
   "source": [
    "import torch\n",
    "torch.cuda.is_available()"
   ]
  },
  {
   "cell_type": "code",
   "execution_count": 3,
   "metadata": {},
   "outputs": [
    {
     "output_type": "execute_result",
     "data": {
      "text/plain": "         imdb_id                                          title  \\\n0      tt0057603                        I tre volti della paura   \n1      tt1733125  Dungeons &amp; Dragons: The Book of Vile Darkness   \n2      tt0033045                     The Shop Around the Corner   \n3      tt0113862                             Mr. Holland&#39;s Opus   \n4      tt0086250                                       Scarface   \n...          ...                                            ...   \n14823  tt0219952                                  Lucky Numbers   \n14824  tt1371159                                     Iron Man 2   \n14825  tt0063443                                     Play Dirty   \n14826  tt0039464                                      High Wall   \n14827  tt0235166                               Against All Hope   \n\n                                           plot_synopsis  \\\n0      Note: this synopsis is for the orginal Italian...   \n1      Two thousand years ago, Nhagruul the Foul, a s...   \n2      Matuschek&#39;s, a gift store in Budapest, is the ...   \n3      Glenn Holland, not a morning person by anyone&#39;...   \n4      In May 1980, a Cuban man named Tony Montana (A...   \n...                                                  ...   \n14823  In 1988 Russ Richards (John Travolta), the wea...   \n14824  In Russia, the media covers Tony Stark&#39;s discl...   \n14825  During the North African Campaign in World War...   \n14826  Steven Kenet catches his unfaithful wife in th...   \n14827  Sometime in the 1950s in Chicago a man, Cecil ...   \n\n                                                    tags  split  \\\n0              cult, horror, gothic, murder, atmospheric  train   \n1                                               violence  train   \n2                                               romantic   test   \n3                 inspiring, romantic, stupid, feel-good  train   \n4      cruelty, murder, dramatic, cult, violence, atm...    val   \n...                                                  ...    ...   \n14823                                     comedy, murder   test   \n14824                         good versus evil, violence  train   \n14825                                           anti war  train   \n14826                                             murder   test   \n14827                                     christian film   test   \n\n      synopsis_source  \n0                imdb  \n1                imdb  \n2                imdb  \n3                imdb  \n4                imdb  \n...               ...  \n14823       wikipedia  \n14824       wikipedia  \n14825       wikipedia  \n14826       wikipedia  \n14827       wikipedia  \n\n[14828 rows x 6 columns]",
      "text/html": "<div>\n<style scoped>\n    .dataframe tbody tr th:only-of-type {\n        vertical-align: middle;\n    }\n\n    .dataframe tbody tr th {\n        vertical-align: top;\n    }\n\n    .dataframe thead th {\n        text-align: right;\n    }\n</style>\n<table border=\"1\" class=\"dataframe\">\n  <thead>\n    <tr style=\"text-align: right;\">\n      <th></th>\n      <th>imdb_id</th>\n      <th>title</th>\n      <th>plot_synopsis</th>\n      <th>tags</th>\n      <th>split</th>\n      <th>synopsis_source</th>\n    </tr>\n  </thead>\n  <tbody>\n    <tr>\n      <th>0</th>\n      <td>tt0057603</td>\n      <td>I tre volti della paura</td>\n      <td>Note: this synopsis is for the orginal Italian...</td>\n      <td>cult, horror, gothic, murder, atmospheric</td>\n      <td>train</td>\n      <td>imdb</td>\n    </tr>\n    <tr>\n      <th>1</th>\n      <td>tt1733125</td>\n      <td>Dungeons &amp; Dragons: The Book of Vile Darkness</td>\n      <td>Two thousand years ago, Nhagruul the Foul, a s...</td>\n      <td>violence</td>\n      <td>train</td>\n      <td>imdb</td>\n    </tr>\n    <tr>\n      <th>2</th>\n      <td>tt0033045</td>\n      <td>The Shop Around the Corner</td>\n      <td>Matuschek's, a gift store in Budapest, is the ...</td>\n      <td>romantic</td>\n      <td>test</td>\n      <td>imdb</td>\n    </tr>\n    <tr>\n      <th>3</th>\n      <td>tt0113862</td>\n      <td>Mr. Holland's Opus</td>\n      <td>Glenn Holland, not a morning person by anyone'...</td>\n      <td>inspiring, romantic, stupid, feel-good</td>\n      <td>train</td>\n      <td>imdb</td>\n    </tr>\n    <tr>\n      <th>4</th>\n      <td>tt0086250</td>\n      <td>Scarface</td>\n      <td>In May 1980, a Cuban man named Tony Montana (A...</td>\n      <td>cruelty, murder, dramatic, cult, violence, atm...</td>\n      <td>val</td>\n      <td>imdb</td>\n    </tr>\n    <tr>\n      <th>...</th>\n      <td>...</td>\n      <td>...</td>\n      <td>...</td>\n      <td>...</td>\n      <td>...</td>\n      <td>...</td>\n    </tr>\n    <tr>\n      <th>14823</th>\n      <td>tt0219952</td>\n      <td>Lucky Numbers</td>\n      <td>In 1988 Russ Richards (John Travolta), the wea...</td>\n      <td>comedy, murder</td>\n      <td>test</td>\n      <td>wikipedia</td>\n    </tr>\n    <tr>\n      <th>14824</th>\n      <td>tt1371159</td>\n      <td>Iron Man 2</td>\n      <td>In Russia, the media covers Tony Stark's discl...</td>\n      <td>good versus evil, violence</td>\n      <td>train</td>\n      <td>wikipedia</td>\n    </tr>\n    <tr>\n      <th>14825</th>\n      <td>tt0063443</td>\n      <td>Play Dirty</td>\n      <td>During the North African Campaign in World War...</td>\n      <td>anti war</td>\n      <td>train</td>\n      <td>wikipedia</td>\n    </tr>\n    <tr>\n      <th>14826</th>\n      <td>tt0039464</td>\n      <td>High Wall</td>\n      <td>Steven Kenet catches his unfaithful wife in th...</td>\n      <td>murder</td>\n      <td>test</td>\n      <td>wikipedia</td>\n    </tr>\n    <tr>\n      <th>14827</th>\n      <td>tt0235166</td>\n      <td>Against All Hope</td>\n      <td>Sometime in the 1950s in Chicago a man, Cecil ...</td>\n      <td>christian film</td>\n      <td>test</td>\n      <td>wikipedia</td>\n    </tr>\n  </tbody>\n</table>\n<p>14828 rows × 6 columns</p>\n</div>"
     },
     "metadata": {},
     "execution_count": 3
    }
   ],
   "source": [
    "mpstDF= pd.read_csv(\"mpst.csv\")\n",
    "mpstDF\n"
   ]
  },
  {
   "cell_type": "code",
   "execution_count": 4,
   "metadata": {},
   "outputs": [],
   "source": [
    "def decontracted(phrase):\n",
    "    # specific\n",
    "    phrase = re.sub(r\"won't\", \"will not\", phrase)\n",
    "    phrase = re.sub(r\"can't\", \"can not\", phrase)\n",
    "    phrase = re.sub(r\"couldn't\", \"could not\", phrase)\n",
    "    phrase = re.sub(r\"wouldn't\", \"would not\", phrase)\n",
    "    phrase = re.sub(r\"shouldn't\", \"should not\", phrase)\n",
    "    phrase = re.sub(r\"don't\", \"do not\", phrase)\n",
    "    phrase = re.sub(r\"doesn't\", \"does not\", phrase)\n",
    "    phrase = re.sub(r\"haven't\", \"have not\", phrase)\n",
    "    phrase = re.sub(r\"hasn't\", \"has not\", phrase)\n",
    "    phrase = re.sub(r\"ain't\", \"not\", phrase)\n",
    "    phrase = re.sub(r\"hadn't\", \"had not\", phrase)\n",
    "    phrase = re.sub(r\"didn't\", \"did not\", phrase)\n",
    "    phrase = re.sub(r\"wasn't\", \"was not\", phrase)\n",
    "    phrase = re.sub(r\"aren't\", \"are not\", phrase)\n",
    "    phrase = re.sub(r\"isn't\", \"is not\", phrase)\n",
    "\n",
    "    # general\n",
    "    phrase = re.sub(r\"n\\'t\", \" not\", phrase)\n",
    "    phrase = re.sub(r\"\\'re\", \" are\", phrase)\n",
    "    phrase = re.sub(r\"\\'s\", \" is\", phrase)\n",
    "    phrase = re.sub(r\"\\'d\", \" would\", phrase)\n",
    "    phrase = re.sub(r\"\\'ll\", \" will\", phrase)\n",
    "    phrase = re.sub(r\"\\'t\", \" not\", phrase)\n",
    "    phrase = re.sub(r\"\\'ve\", \" have\", phrase)\n",
    "    phrase = re.sub(r\"\\'m\", \" am\", phrase)\n",
    "    return phrase\n",
    "\n",
    "# stop_words = stopwords.words('english')\n"
   ]
  },
  {
   "cell_type": "code",
   "execution_count": 5,
   "metadata": {},
   "outputs": [],
   "source": [
    "mpstDF_processsed=mpstDF.copy()\n",
    "# Type 1: Decontracted Text, The puncutation and stop words are still there\n",
    "mpstDF_processsed[\"processed_synopsis_t1\"]=mpstDF_processsed[\"plot_synopsis\"].apply(lambda x: decontracted(\" \".join(preprocess_string(x, [lambda x: x.lower(), strip_tags]))))\n",
    "# Type 2 Decontracted Text Stop Words Removed\n",
    "mpstDF_processsed[\"processed_synopsis_t2\"]=mpstDF_processsed[\"plot_synopsis\"].apply(lambda x: decontracted(\" \".join(preprocess_string(x, [lambda x: x.lower(), strip_tags,remove_stopwords]))))"
   ]
  },
  {
   "source": [
    "after the data has been processed, we will truncate the data to 250 and 300 length"
   ],
   "cell_type": "markdown",
   "metadata": {}
  },
  {
   "cell_type": "code",
   "execution_count": 6,
   "metadata": {},
   "outputs": [],
   "source": [
    "def truncateText(text,size):\n",
    "    return (\" \".join(text.split(\" \")[:size]))"
   ]
  },
  {
   "cell_type": "code",
   "execution_count": 7,
   "metadata": {},
   "outputs": [],
   "source": [
    "mpstDF_processsed[\"processed_synopsis_t1_short\"]=mpstDF_processsed[\"processed_synopsis_t1\"].apply(lambda x:truncateText(x,250))\n",
    "# Type 2 Decontracted Text Stop Words Removed\n",
    "mpstDF_processsed[\"processed_synopsis_t2_short\"]=mpstDF_processsed[\"processed_synopsis_t2\"].apply(lambda x: truncateText(x,300))"
   ]
  },
  {
   "cell_type": "code",
   "execution_count": 8,
   "metadata": {},
   "outputs": [
    {
     "output_type": "execute_result",
     "data": {
      "text/plain": "         imdb_id                                          title  \\\n0      tt0057603                        I tre volti della paura   \n1      tt1733125  Dungeons &amp; Dragons: The Book of Vile Darkness   \n2      tt0033045                     The Shop Around the Corner   \n3      tt0113862                             Mr. Holland&#39;s Opus   \n4      tt0086250                                       Scarface   \n...          ...                                            ...   \n14823  tt0219952                                  Lucky Numbers   \n14824  tt1371159                                     Iron Man 2   \n14825  tt0063443                                     Play Dirty   \n14826  tt0039464                                      High Wall   \n14827  tt0235166                               Against All Hope   \n\n                                           plot_synopsis  \\\n0      Note: this synopsis is for the orginal Italian...   \n1      Two thousand years ago, Nhagruul the Foul, a s...   \n2      Matuschek&#39;s, a gift store in Budapest, is the ...   \n3      Glenn Holland, not a morning person by anyone&#39;...   \n4      In May 1980, a Cuban man named Tony Montana (A...   \n...                                                  ...   \n14823  In 1988 Russ Richards (John Travolta), the wea...   \n14824  In Russia, the media covers Tony Stark&#39;s discl...   \n14825  During the North African Campaign in World War...   \n14826  Steven Kenet catches his unfaithful wife in th...   \n14827  Sometime in the 1950s in Chicago a man, Cecil ...   \n\n                                                    tags  split  \\\n0              cult, horror, gothic, murder, atmospheric  train   \n1                                               violence  train   \n2                                               romantic   test   \n3                 inspiring, romantic, stupid, feel-good  train   \n4      cruelty, murder, dramatic, cult, violence, atm...    val   \n...                                                  ...    ...   \n14823                                     comedy, murder   test   \n14824                         good versus evil, violence  train   \n14825                                           anti war  train   \n14826                                             murder   test   \n14827                                     christian film   test   \n\n      synopsis_source                              processed_synopsis_t1  \\\n0                imdb  note: this synopsis is for the orginal italian...   \n1                imdb  two thousand years ago, nhagruul the foul, a s...   \n2                imdb  matuschek is, a gift store in budapest, is the...   \n3                imdb  glenn holland, not a morning person by anyone ...   \n4                imdb  in may 1980, a cuban man named tony montana (a...   \n...               ...                                                ...   \n14823       wikipedia  in 1988 russ richards (john travolta), the wea...   \n14824       wikipedia  in russia, the media covers tony stark is disc...   \n14825       wikipedia  during the north african campaign in world war...   \n14826       wikipedia  steven kenet catches his unfaithful wife in th...   \n14827       wikipedia  sometime in the 1950s in chicago a man, cecil ...   \n\n                                   processed_synopsis_t2  \\\n0      note: synopsis orginal italian release segment...   \n1      thousand years ago, nhagruul foul, sorcerer re...   \n2      matuschek is, gift store budapest, workplace a...   \n3      glenn holland, morning person anyone is standa...   \n4      1980, cuban man named tony montana (al pacino)...   \n...                                                  ...   \n14823  1988 russ richards (john travolta), weatherman...   \n14824  russia, media covers tony stark is disclosure ...   \n14825  north african campaign world war ii, captain d...   \n14826  steven kenet catches unfaithful wife apartment...   \n14827  1950s chicago man, cecil moe (michael madsen) ...   \n\n                             processed_synopsis_t1_short  \\\n0      note: this synopsis is for the orginal italian...   \n1      two thousand years ago, nhagruul the foul, a s...   \n2      matuschek is, a gift store in budapest, is the...   \n3      glenn holland, not a morning person by anyone ...   \n4      in may 1980, a cuban man named tony montana (a...   \n...                                                  ...   \n14823  in 1988 russ richards (john travolta), the wea...   \n14824  in russia, the media covers tony stark is disc...   \n14825  during the north african campaign in world war...   \n14826  steven kenet catches his unfaithful wife in th...   \n14827  sometime in the 1950s in chicago a man, cecil ...   \n\n                             processed_synopsis_t2_short  \n0      note: synopsis orginal italian release segment...  \n1      thousand years ago, nhagruul foul, sorcerer re...  \n2      matuschek is, gift store budapest, workplace a...  \n3      glenn holland, morning person anyone is standa...  \n4      1980, cuban man named tony montana (al pacino)...  \n...                                                  ...  \n14823  1988 russ richards (john travolta), weatherman...  \n14824  russia, media covers tony stark is disclosure ...  \n14825  north african campaign world war ii, captain d...  \n14826  steven kenet catches unfaithful wife apartment...  \n14827  1950s chicago man, cecil moe (michael madsen) ...  \n\n[14828 rows x 10 columns]",
      "text/html": "<div>\n<style scoped>\n    .dataframe tbody tr th:only-of-type {\n        vertical-align: middle;\n    }\n\n    .dataframe tbody tr th {\n        vertical-align: top;\n    }\n\n    .dataframe thead th {\n        text-align: right;\n    }\n</style>\n<table border=\"1\" class=\"dataframe\">\n  <thead>\n    <tr style=\"text-align: right;\">\n      <th></th>\n      <th>imdb_id</th>\n      <th>title</th>\n      <th>plot_synopsis</th>\n      <th>tags</th>\n      <th>split</th>\n      <th>synopsis_source</th>\n      <th>processed_synopsis_t1</th>\n      <th>processed_synopsis_t2</th>\n      <th>processed_synopsis_t1_short</th>\n      <th>processed_synopsis_t2_short</th>\n    </tr>\n  </thead>\n  <tbody>\n    <tr>\n      <th>0</th>\n      <td>tt0057603</td>\n      <td>I tre volti della paura</td>\n      <td>Note: this synopsis is for the orginal Italian...</td>\n      <td>cult, horror, gothic, murder, atmospheric</td>\n      <td>train</td>\n      <td>imdb</td>\n      <td>note: this synopsis is for the orginal italian...</td>\n      <td>note: synopsis orginal italian release segment...</td>\n      <td>note: this synopsis is for the orginal italian...</td>\n      <td>note: synopsis orginal italian release segment...</td>\n    </tr>\n    <tr>\n      <th>1</th>\n      <td>tt1733125</td>\n      <td>Dungeons &amp; Dragons: The Book of Vile Darkness</td>\n      <td>Two thousand years ago, Nhagruul the Foul, a s...</td>\n      <td>violence</td>\n      <td>train</td>\n      <td>imdb</td>\n      <td>two thousand years ago, nhagruul the foul, a s...</td>\n      <td>thousand years ago, nhagruul foul, sorcerer re...</td>\n      <td>two thousand years ago, nhagruul the foul, a s...</td>\n      <td>thousand years ago, nhagruul foul, sorcerer re...</td>\n    </tr>\n    <tr>\n      <th>2</th>\n      <td>tt0033045</td>\n      <td>The Shop Around the Corner</td>\n      <td>Matuschek's, a gift store in Budapest, is the ...</td>\n      <td>romantic</td>\n      <td>test</td>\n      <td>imdb</td>\n      <td>matuschek is, a gift store in budapest, is the...</td>\n      <td>matuschek is, gift store budapest, workplace a...</td>\n      <td>matuschek is, a gift store in budapest, is the...</td>\n      <td>matuschek is, gift store budapest, workplace a...</td>\n    </tr>\n    <tr>\n      <th>3</th>\n      <td>tt0113862</td>\n      <td>Mr. Holland's Opus</td>\n      <td>Glenn Holland, not a morning person by anyone'...</td>\n      <td>inspiring, romantic, stupid, feel-good</td>\n      <td>train</td>\n      <td>imdb</td>\n      <td>glenn holland, not a morning person by anyone ...</td>\n      <td>glenn holland, morning person anyone is standa...</td>\n      <td>glenn holland, not a morning person by anyone ...</td>\n      <td>glenn holland, morning person anyone is standa...</td>\n    </tr>\n    <tr>\n      <th>4</th>\n      <td>tt0086250</td>\n      <td>Scarface</td>\n      <td>In May 1980, a Cuban man named Tony Montana (A...</td>\n      <td>cruelty, murder, dramatic, cult, violence, atm...</td>\n      <td>val</td>\n      <td>imdb</td>\n      <td>in may 1980, a cuban man named tony montana (a...</td>\n      <td>1980, cuban man named tony montana (al pacino)...</td>\n      <td>in may 1980, a cuban man named tony montana (a...</td>\n      <td>1980, cuban man named tony montana (al pacino)...</td>\n    </tr>\n    <tr>\n      <th>...</th>\n      <td>...</td>\n      <td>...</td>\n      <td>...</td>\n      <td>...</td>\n      <td>...</td>\n      <td>...</td>\n      <td>...</td>\n      <td>...</td>\n      <td>...</td>\n      <td>...</td>\n    </tr>\n    <tr>\n      <th>14823</th>\n      <td>tt0219952</td>\n      <td>Lucky Numbers</td>\n      <td>In 1988 Russ Richards (John Travolta), the wea...</td>\n      <td>comedy, murder</td>\n      <td>test</td>\n      <td>wikipedia</td>\n      <td>in 1988 russ richards (john travolta), the wea...</td>\n      <td>1988 russ richards (john travolta), weatherman...</td>\n      <td>in 1988 russ richards (john travolta), the wea...</td>\n      <td>1988 russ richards (john travolta), weatherman...</td>\n    </tr>\n    <tr>\n      <th>14824</th>\n      <td>tt1371159</td>\n      <td>Iron Man 2</td>\n      <td>In Russia, the media covers Tony Stark's discl...</td>\n      <td>good versus evil, violence</td>\n      <td>train</td>\n      <td>wikipedia</td>\n      <td>in russia, the media covers tony stark is disc...</td>\n      <td>russia, media covers tony stark is disclosure ...</td>\n      <td>in russia, the media covers tony stark is disc...</td>\n      <td>russia, media covers tony stark is disclosure ...</td>\n    </tr>\n    <tr>\n      <th>14825</th>\n      <td>tt0063443</td>\n      <td>Play Dirty</td>\n      <td>During the North African Campaign in World War...</td>\n      <td>anti war</td>\n      <td>train</td>\n      <td>wikipedia</td>\n      <td>during the north african campaign in world war...</td>\n      <td>north african campaign world war ii, captain d...</td>\n      <td>during the north african campaign in world war...</td>\n      <td>north african campaign world war ii, captain d...</td>\n    </tr>\n    <tr>\n      <th>14826</th>\n      <td>tt0039464</td>\n      <td>High Wall</td>\n      <td>Steven Kenet catches his unfaithful wife in th...</td>\n      <td>murder</td>\n      <td>test</td>\n      <td>wikipedia</td>\n      <td>steven kenet catches his unfaithful wife in th...</td>\n      <td>steven kenet catches unfaithful wife apartment...</td>\n      <td>steven kenet catches his unfaithful wife in th...</td>\n      <td>steven kenet catches unfaithful wife apartment...</td>\n    </tr>\n    <tr>\n      <th>14827</th>\n      <td>tt0235166</td>\n      <td>Against All Hope</td>\n      <td>Sometime in the 1950s in Chicago a man, Cecil ...</td>\n      <td>christian film</td>\n      <td>test</td>\n      <td>wikipedia</td>\n      <td>sometime in the 1950s in chicago a man, cecil ...</td>\n      <td>1950s chicago man, cecil moe (michael madsen) ...</td>\n      <td>sometime in the 1950s in chicago a man, cecil ...</td>\n      <td>1950s chicago man, cecil moe (michael madsen) ...</td>\n    </tr>\n  </tbody>\n</table>\n<p>14828 rows × 10 columns</p>\n</div>"
     },
     "metadata": {},
     "execution_count": 8
    }
   ],
   "source": [
    "mpstDF_processsed"
   ]
  },
  {
   "cell_type": "code",
   "execution_count": 9,
   "metadata": {},
   "outputs": [],
   "source": [
    "# from transformers import XLNetConfig, XLNetModel, XLNetTokenizer\n",
    "from transformers import AutoModel,AutoConfig,AutoTokenizer\n"
   ]
  },
  {
   "cell_type": "code",
   "execution_count": 10,
   "metadata": {
    "tags": []
   },
   "outputs": [],
   "source": [
    "# xlnConfig= XLNetConfig()\n",
    "# xlnModel = XLNetModel(xlnConfig)\n",
    "from transformers import AutoModel,AutoConfig,AutoTokenizer\n",
    "\n",
    "tokenizer = AutoTokenizer.from_pretrained('xlnet-base-cased')\n",
    "# model = AutoModel.from_config(config)\n",
    "model = AutoModel.from_pretrained('xlnet-base-cased')"
   ]
  },
  {
   "cell_type": "code",
   "execution_count": 11,
   "metadata": {},
   "outputs": [],
   "source": [
    "def get_Encodings(text,tokenizer=tokenizer,model=model, verbose=False):\n",
    "    if verbose:\n",
    "        print(\"Text:\")\n",
    "        print(text[:20] + \"....\")\n",
    "    # if the sequence lenght is too big we trim it to 250\n",
    "    encoded = tokenizer.encode(text)\n",
    "    \n",
    "    # if len(encoded)> 248:\n",
    "    #     encoded = encoded[:248]+[4,3] # adding the encoding for special tokens by default\n",
    "    if verbose:\n",
    "        print(\"Encoded\",encoded)\n",
    "        print(\"length of Encoded\", len(encoded))\n",
    "    text_encoding_tensor=torch.tensor([encoded])\n",
    "    if verbose:\n",
    "        print(\"text_encoding_tensor:\")\n",
    "        print(text_encoding_tensor)\n",
    "        print(\"shape:\")\n",
    "        print(text_encoding_tensor.shape)\n",
    "    attention_mask_tensor= torch.tensor([[1]*text_encoding_tensor.shape[1]])\n",
    "    if verbose:\n",
    "        print(\"attention_mask_tensor:\")\n",
    "        print(attention_mask_tensor)\n",
    "        print(\"shape:\")\n",
    "        print(attention_mask_tensor.shape)\n",
    "\n",
    "    with torch.no_grad():\n",
    "        outputs = model(text_encoding_tensor, attention_mask=attention_mask_tensor)\n",
    "        if verbose:\n",
    "            print(\"outputs:\")\n",
    "            print(outputs)\n",
    "            print(\"Lenght of outputs\",len(outputs))\n",
    "            print(\"outputs[0]:\")\n",
    "            print(outputs[0])\n",
    "            print(\"outputs[0].shape:\")\n",
    "            print(outputs[0].shape)\n",
    "            print(\"outputs[1]:\")\n",
    "            print(outputs[1])\n",
    "            print(\"Length Ooutputstput[1]:\")\n",
    "            print(len(outputs[1]))\n",
    "            print(\"Sample from Output[1], first hidden layer:\")\n",
    "            print(outputs[1][0])\n",
    "            print(\"Sample shape, first hidden layer\")\n",
    "            \n",
    "    if verbose:\n",
    "        print(\"getting the last tensor for XLNet\")\n",
    "        print(outputs[0].squeeze()[-1])\n",
    "    return outputs[0].squeeze()[-1]"
   ]
  },
  {
   "cell_type": "code",
   "execution_count": 12,
   "metadata": {},
   "outputs": [],
   "source": [
    "def getXLNetEmbeddings(df,column,verbose=False):\n",
    "    embeddings = [np.array(get_Encodings(x,verbose=verbose)) for x in df[column]]\n",
    "    final_embeddings = np.array(torch.tensor(embeddings))\n",
    "    return final_embeddings"
   ]
  },
  {
   "cell_type": "code",
   "execution_count": 13,
   "metadata": {},
   "outputs": [],
   "source": [
    "# THIS IS NORMAL TEST FUNCTION CREATED AND LATER MNERGED WITH THE getXLNetEmbeddings METHOD\n",
    "# def getXLNetEmbeddings_testMode(df,column,verbose=False):\n",
    "#     embeddings = np.array(torch.tensor([np.array(get_Encodings(x,verbose=verbose)) for x in df[column]]))\n",
    "#     return embeddings"
   ]
  },
  {
   "cell_type": "markdown",
   "metadata": {},
   "source": [
    "**Testing verbose mode for one Input**"
   ]
  },
  {
   "cell_type": "code",
   "execution_count": 14,
   "metadata": {
    "tags": []
   },
   "outputs": [
    {
     "output_type": "stream",
     "name": "stdout",
     "text": "tensor([-2.1453e-01,  9.8638e-01, -1.3569e+00,  4.9744e-02, -2.0580e-01,\n         2.0028e-01, -1.1084e+00, -2.4160e-01,  5.4918e-01,  6.1399e-01,\n         2.2983e-01, -2.1084e+00,  4.5196e-01, -4.5227e-01,  1.9634e+00,\n        -7.0501e-01,  7.6946e-01,  1.3087e+00,  4.6494e-01, -1.6070e+00,\n         8.9788e-01, -1.1989e+00, -4.9769e-02, -7.3024e-01, -4.6916e-01,\n         6.4692e-01, -1.2097e+00,  9.8949e-01, -1.8701e-01, -1.4202e+00,\n         3.2042e-01, -2.4059e-02,  1.2414e+00,  7.3341e-02, -8.1281e-01,\n        -9.1461e-01, -1.1381e+00,  3.1421e-01,  8.6016e-01,  1.2998e-02,\n         5.2342e-01,  5.1991e-01, -1.0325e+00, -3.0562e-01, -2.7786e-01,\n        -5.8735e-01,  1.1165e+00,  1.5297e+00, -6.8228e-01,  3.2196e-01,\n        -3.0287e-01, -6.1153e-01, -1.8400e+00, -6.7133e-01,  6.4504e-01,\n         7.3167e-01,  2.7735e-01, -1.7589e+00,  4.9479e-01,  1.1035e+00,\n         2.3803e-03,  1.0375e+00, -2.1944e-01, -1.5443e+00,  4.3127e-01,\n         1.3444e+00, -1.4885e+00,  4.8591e-01,  6.0964e-01, -5.2496e-01,\n        -1.6359e-01,  1.6733e+00,  1.0346e-01, -1.0006e+00, -2.9769e+00,\n         3.2755e-01,  2.3209e+00,  3.0375e-01, -1.5163e+00,  1.2310e+00,\n         1.2857e+00,  1.0182e+00, -2.1612e-02,  4.0715e-01, -4.6098e-01,\n        -7.3214e-01,  2.0897e+00, -2.0317e+00,  4.8229e-01, -2.0518e+00,\n         3.3633e-01,  2.9072e-01,  2.1798e+00, -9.9940e-01,  2.2056e-02,\n        -6.1339e-01,  2.9633e+00, -1.4316e+00, -7.5785e-01,  5.0299e-01,\n        -1.0213e-01, -9.9785e-01, -3.4671e-01,  4.2762e-01,  3.0119e+00,\n         1.1853e+00, -1.1546e+00,  1.0388e+00,  1.4966e-01,  1.4104e-01,\n         2.3719e+00, -4.4957e-01, -1.0572e-01, -7.8094e-01, -5.7102e-01,\n         1.8318e-01, -1.8381e+00,  1.5358e+00,  1.5481e-01, -4.9581e-01,\n        -2.2278e+00,  1.2948e+00, -1.0413e+00,  2.8898e-01, -1.2084e-01,\n         1.7138e-01,  2.7609e+00,  1.9643e+00, -3.0080e-01,  1.4541e-01,\n         4.0629e-01,  1.3333e+00,  1.1593e+00, -7.5110e-01,  3.0733e-01,\n        -7.4196e-01,  2.7876e-01,  8.9721e-01,  2.3159e-01, -5.5106e-01,\n        -2.4755e+00,  6.2858e-02, -1.1050e-01,  6.1831e-01,  3.3976e-01,\n        -5.9876e-01, -2.8440e-01, -1.7728e+00,  8.7163e-01, -8.0275e-01,\n         1.0852e+00,  1.9542e-01,  1.8726e+00,  7.4482e-01,  1.5311e-01,\n         2.6769e+00,  6.6298e-01, -1.7538e+00, -5.7625e-02, -4.5067e-01,\n         1.4741e-01,  1.4166e+00,  7.5462e-01,  5.7376e-01,  1.2701e-01,\n         1.1588e+00,  9.0293e-01,  1.3042e-01,  1.2332e+00, -1.9588e+00,\n         3.9885e-02,  2.1610e-01, -1.1540e-01, -2.0532e+00,  1.7119e-01,\n         2.5524e+00,  1.0150e-01, -1.6426e+00,  1.2831e+00,  1.3772e+00,\n        -9.3901e-01,  6.9770e-02, -2.1853e+00,  8.7528e-02, -6.9599e-01,\n         8.6451e-01, -4.3844e-01, -1.2232e-01,  2.2238e-01,  1.4665e+00,\n         3.8622e-01, -1.5519e-01,  1.1260e+00, -4.7662e-01, -1.6015e+00,\n         3.1916e-01,  1.1152e+00,  1.2062e+00,  5.3036e-02,  1.0497e+00,\n        -6.1548e-01,  1.5715e+00, -2.2236e+00,  8.6250e-02, -8.2571e-01,\n        -3.3818e+00, -3.9739e-01,  5.9320e-01, -1.0722e+00, -2.1490e+00,\n        -3.6851e-01, -4.9082e-01, -3.5355e-02, -4.8317e-01,  2.0705e+00,\n        -1.1507e+00, -6.5444e-01, -1.6963e+00,  1.4567e+00,  8.6049e-01,\n        -6.5158e-01,  2.0209e+00,  1.1277e+00, -6.2164e-01, -1.7967e-01,\n         1.7883e+00,  1.1099e+00, -1.0780e-01,  1.8339e+00, -1.1829e+00,\n         9.1396e-01, -1.0373e+00,  1.1238e-01, -1.0181e+00, -1.5731e+00,\n         6.5384e-01, -9.0480e-01,  1.1720e+00, -7.5896e-01,  6.6610e-01,\n        -1.3671e-01,  1.2426e+00, -7.4945e-01, -2.3609e-01, -8.3539e-01,\n         1.7154e+00, -1.2646e+00, -1.4290e+00,  1.1565e-01,  8.0008e-01,\n        -8.0761e-01, -5.9724e-01, -1.2979e+00,  2.0907e+00, -9.5528e-01,\n         5.2270e-01, -1.1853e+00,  2.0436e-01, -1.1253e+00, -2.0493e+00,\n        -9.9545e-01,  1.4973e+00,  2.6603e-02, -1.6016e-01,  5.5180e-03,\n         6.4405e-01,  8.9588e-02, -4.8602e-01,  7.1840e-01,  1.3879e-01,\n        -1.9723e+00, -1.0912e+00, -2.1722e+00,  1.3910e+00,  9.0147e-01,\n         1.2536e+00, -1.6592e+00,  2.1257e+00, -1.9984e+00,  1.4908e+00,\n         3.2881e-01, -1.4587e+00, -5.2943e-01,  1.8709e-01, -3.1590e+00,\n        -4.9768e-01, -1.4314e-01,  9.3489e-01,  1.0437e+00, -4.3188e-01,\n        -5.2128e-01, -4.6545e-01, -8.2936e-01, -1.3454e+00,  5.1912e-02,\n         3.9470e-02,  1.1484e+00, -5.1803e-01,  1.3648e+00,  1.3714e-01,\n        -6.4435e-01, -8.4210e-01, -1.7412e+00,  2.0659e+00,  1.0211e+00,\n        -1.2989e+00,  1.2540e-01,  1.9543e-01,  5.7408e-01,  4.1764e-02,\n        -4.9603e-02, -1.6279e+00,  9.4856e-01,  2.0670e+00,  5.3050e-01,\n         5.8467e-01,  1.0871e+00, -4.0797e-01,  1.1409e+00, -1.0692e+00,\n         2.9354e-01, -8.9125e-01, -2.4840e-01, -1.6881e+00,  7.4998e-01,\n         1.1048e+00, -7.1387e-01,  1.0101e+00, -1.1354e+00, -1.4488e-01,\n        -3.8969e+00, -3.5645e-01, -1.4997e+00,  4.3670e-01,  5.8357e-01,\n        -2.1449e-01,  6.6824e-01, -3.5385e+00,  8.6140e-01,  2.2280e+00,\n        -8.6619e-01, -1.1507e-01, -4.4029e-01, -3.5025e-01,  7.8375e-01,\n         1.2814e+00,  1.5552e-01, -2.1280e+00,  2.1976e-01, -2.7340e+00,\n        -1.2524e+00, -1.9484e+00,  1.6327e+00, -1.7756e+00, -1.3328e+00,\n         2.6205e-01,  1.3682e+00, -8.5758e-01, -9.7497e-02, -1.7539e+00,\n        -1.1427e+00,  4.4934e-02, -1.2070e+00, -1.8945e-01, -3.6902e-02,\n        -1.1454e+00, -4.9156e-01,  1.6384e+00, -3.8166e-01,  3.7253e-01,\n        -2.2684e-01,  3.1305e-01,  1.4779e+00,  3.3009e-01, -5.2985e-01,\n        -1.0515e+00, -1.5627e+00,  9.3483e-01, -1.2519e+00,  2.2258e-01,\n         2.9920e-01,  4.6717e-03,  9.7037e-01,  9.3146e-02,  1.3370e+00,\n        -6.8196e-01,  4.5106e-01,  1.6951e+00, -7.6028e-01,  1.1101e+00,\n        -2.6384e+00, -1.3144e+00, -1.9607e-02, -1.4172e+00,  7.8883e-01,\n        -3.6962e-01,  1.4095e+00,  1.1067e+00,  1.2178e+00,  5.8441e-01,\n        -2.1983e+00, -1.4277e+00,  9.8459e-02,  6.9648e-01, -5.0838e-01,\n         2.4521e-01, -1.0173e+00, -4.2939e-01,  3.9808e-01, -2.2220e+00,\n         1.3788e+00, -1.9310e+00, -1.2716e+00,  1.8036e+00, -1.7245e+00,\n        -7.4479e-01,  1.5149e-01,  8.9425e-01,  1.5406e+00, -4.0202e-02,\n         1.9446e+00,  1.8900e-01, -3.1360e-01, -1.7611e-01, -1.1113e+00,\n         1.1721e-01, -1.1700e+00, -5.4249e-02,  2.4942e+00,  9.3798e-01,\n         4.8418e-01,  6.4945e-01, -1.3807e+00,  1.2400e+00,  1.8008e-01,\n        -2.4113e+00, -8.9756e-02, -7.2267e-02, -1.0999e+00, -1.4695e-01,\n        -2.6345e+00, -1.4727e+00, -1.6954e+00, -7.7998e-01, -6.2965e-01,\n        -1.7881e-01,  5.1728e-01, -3.9755e-01, -1.6394e+00, -1.0089e+00,\n         1.9862e+00,  1.4115e-01,  5.2719e-01, -1.2833e+00, -5.0331e-01,\n         1.3289e+00, -7.0200e-01, -1.3461e+00, -1.6944e+00,  1.4036e+00,\n         9.8193e-01, -6.4413e-01,  6.2290e-01, -2.2626e-01,  6.6347e-01,\n         1.5525e+00, -2.1926e+00, -1.3891e+00,  2.8898e-01,  1.2426e+00,\n         2.3103e-01, -1.1832e-01, -1.1906e+00,  2.7114e-01,  5.1607e-01,\n        -2.2052e+00,  9.2495e-01, -1.2769e-01,  1.5139e+00,  7.8701e-01,\n         7.4431e-01, -1.6492e-01,  1.3957e-01,  1.2427e+00, -3.9936e-01,\n         1.0268e+00, -8.1749e-01, -1.6536e+00,  1.1583e+00, -6.0149e-01,\n         1.3037e+00, -1.5865e+00, -1.2954e+00, -1.7343e+00,  1.8969e-01,\n         1.2042e+00,  1.3569e-01,  3.0305e-01, -6.6328e-01,  4.2401e-01,\n        -1.8526e-01,  1.7876e-01,  1.1274e+00,  7.1105e-01,  1.0016e+00,\n        -1.0542e+00,  2.2776e-01,  1.1125e+00, -1.3756e-01, -5.9948e-01,\n         1.2532e-01,  4.4875e-01, -3.2859e+00,  7.0325e-01, -1.4238e+00,\n        -5.1156e-01,  1.2198e+00, -9.7238e-02, -1.4447e-01, -1.6210e+00,\n         1.5796e+00, -1.3337e+00, -9.3004e-01,  2.2620e-01, -8.0319e-01,\n        -5.7009e-01,  6.2643e-01,  8.3831e-01,  3.4209e-01,  5.5753e-01,\n         2.1434e+00,  5.1033e-01,  1.3235e-02, -1.3793e+00, -1.1478e+00,\n         1.8771e+00,  1.7251e+00,  1.5407e-01,  9.1308e-01,  1.9434e+00,\n         8.8198e-01, -3.5997e-01,  2.9065e+00,  9.1285e-01,  1.9355e+00,\n         1.6056e+00,  5.6866e-01,  2.0768e+00,  8.6787e-01, -2.2931e-02,\n         8.3905e-01,  7.2683e-01, -6.0721e-02, -1.8671e+00,  9.9623e-01,\n        -6.5899e-01, -1.2392e+00, -2.0062e-01, -2.1718e-01, -1.7522e+00,\n         3.4222e-01,  9.3519e-01,  2.6198e-01,  4.0103e-01,  3.3233e-01,\n        -3.4144e-01,  8.7069e-01, -6.8507e-01, -9.2126e-01, -8.6281e-02,\n        -1.5173e-01, -7.7543e-01, -3.1340e-01,  9.4671e-01, -6.6685e-01,\n         1.5142e+00,  5.8379e-01, -1.7654e-01, -8.8808e-01,  3.5779e-01,\n         2.7198e-01,  3.7428e-02, -6.6635e-01,  1.2272e+00, -8.8221e-01,\n         2.7930e-01,  1.3620e+00, -1.0215e-01,  1.6067e+00,  8.8354e-01,\n        -9.1101e-01, -1.1794e-01,  3.5961e-01,  8.0464e-01, -1.1855e+00,\n        -1.8708e+00, -1.7048e-02,  4.2338e-01,  1.1876e+00,  3.7264e-01,\n        -1.6972e+00,  6.2226e-01, -2.8600e+00, -9.8395e-01, -1.0913e+00,\n         3.8669e+00,  1.5290e-01, -8.7765e-01, -7.4308e-01, -2.4191e-01,\n        -3.0232e-01, -5.3909e-01, -1.0366e+00, -3.0453e-01,  1.0702e+00,\n         1.5789e+00, -7.1529e-01, -1.7520e+00,  3.2104e-01,  1.2714e+00,\n         8.2794e-01, -1.7445e-01, -8.6687e-01, -1.5617e+00,  1.4571e-01,\n        -2.8659e+00,  4.4525e-01,  2.6224e+00,  8.5578e-01, -9.3843e-01,\n         3.5320e+00, -1.0526e+00, -3.3882e-01,  1.4104e+00,  1.0956e+00,\n        -1.5400e+00, -3.7736e-01, -1.0202e+00, -2.0895e-01,  3.1079e-03,\n         4.9658e-01,  4.6117e-01, -1.1214e+00,  2.6658e-02, -3.0991e+00,\n         4.4106e-01, -1.2591e+00, -1.0375e+00,  1.6153e+00,  3.2657e-01,\n        -4.0481e-02, -5.7306e-01, -3.0543e-02,  2.2385e+00, -7.5224e-01,\n         8.0265e-01, -7.6170e-01,  1.1493e+00, -1.5330e-01,  2.1856e+00,\n        -2.0625e+00,  1.4827e-01, -8.6528e-01,  4.0643e-01,  4.9671e-01,\n        -1.2934e+00,  1.3553e+00,  8.9471e+00,  1.2010e-01,  6.1475e-01,\n         1.7927e-01, -1.6315e+00,  6.1841e-01, -6.8354e-01,  1.1180e+00,\n        -6.6650e-01,  8.7611e-01, -1.4513e+00,  5.6974e-01,  4.2913e-01,\n        -9.8622e-01, -3.8110e-01, -4.5555e-01,  2.0714e+00, -1.5918e+00,\n         4.5925e-01,  1.1442e+00, -5.1364e-01, -1.8913e+00,  3.0349e-01,\n        -1.6888e+00,  1.9609e+00,  7.7843e-01,  2.0561e+00,  2.7419e-01,\n        -1.1826e-01, -2.0508e+00, -2.0858e-01, -1.2502e+00,  9.7472e-01,\n         1.1850e+00,  3.6681e+00, -2.0549e+00, -9.8252e-01,  1.0629e+00,\n         8.4684e-02,  6.8038e-01, -6.4833e-01, -1.8062e+00,  3.7127e-01,\n        -2.0946e+00, -6.5025e-02, -3.8743e+00, -3.3673e+00, -1.5098e+00,\n        -1.5450e-01,  4.5021e-01, -5.0693e-01, -2.5925e+00, -9.5800e-01,\n         4.3311e-01,  8.3092e-01,  1.3436e+00, -1.1999e+00, -2.8139e-01,\n        -8.3131e-01, -3.0034e-01,  9.4809e-01,  2.0950e+00,  2.9593e+00,\n         6.2950e-01, -8.3132e-01,  3.6281e+00,  3.5306e-01, -2.1721e+00,\n        -1.3455e+00, -1.7943e-01, -7.0785e-01,  8.8919e-01,  1.9405e-01,\n         3.8667e-01, -3.9391e-01, -6.9740e-01,  8.2895e-01, -2.6867e-01,\n         9.6548e-01,  1.5483e+00,  8.2763e-01,  4.6222e-02,  8.3067e-01,\n        -1.4615e-01,  6.9635e-01, -2.8679e-02,  2.6626e-01,  8.7689e-02,\n        -2.6214e-01,  1.8634e+00, -1.7545e+00, -1.1901e+00,  1.1427e+00,\n         4.2843e-01,  2.5285e+00, -9.5746e-01,  6.3902e-01,  1.9181e+00,\n        -9.4142e-02, -1.1556e+00, -1.5487e+00])\n"
    }
   ],
   "source": [
    "sample_text=\"In May 1980, a Cuban man named Tony Montana (Al Pacino) claims asylum, in Florida, USA, and is in search of the \\\"American Dream\\\" after departing Cuba in the Mariel boatlift of 1980. When questioned by three tough-talking INS officials, they notice a tattoo on Tony's left arm of a black heart with a pitchfork through it, which identifies him as a hitman, and detain him in a camp called 'Freedomtown' with other Cubans, including Tony's best friend and former Cuban Army buddy Manolo \\\"Manny Ray\\\" Ribiera (Steven Bauer), under the local I-95 expressway while the government evaluates their visa petitions.After 30 days of governmental dithering and camp rumors, Manny receives an offer from the Cuban Mafia which he quickly relays to Tony. If they kill Emilio Rebenga (Roberto Contreras) a former aide to Fidel Castro who is now detained in Freedomtown, they will receive green cards. Tony agrees, and kills Rebenga during a riot at Freedomtown.\"\n",
    "test_output=get_Encodings(sample_text)\n",
    "print(test_output)"
   ]
  },
  {
   "cell_type": "code",
   "execution_count": null,
   "metadata": {},
   "outputs": [],
   "source": []
  },
  {
   "cell_type": "markdown",
   "metadata": {},
   "source": [
    "Now testing the helper functions for input from a dataframe to see if we get the correct desired output for our work"
   ]
  },
  {
   "cell_type": "code",
   "execution_count": 15,
   "metadata": {},
   "outputs": [
    {
     "output_type": "display_data",
     "data": {
      "text/plain": "                               processed_synopsis_t1  \\\n0  note: this synopsis is for the orginal italian...   \n1  two thousand years ago, nhagruul the foul, a s...   \n2  matuschek is, a gift store in budapest, is the...   \n\n                               processed_synopsis_t2  \n0  note: synopsis orginal italian release segment...  \n1  thousand years ago, nhagruul foul, sorcerer re...  \n2  matuschek is, gift store budapest, workplace a...  ",
      "text/html": "<div>\n<style scoped>\n    .dataframe tbody tr th:only-of-type {\n        vertical-align: middle;\n    }\n\n    .dataframe tbody tr th {\n        vertical-align: top;\n    }\n\n    .dataframe thead th {\n        text-align: right;\n    }\n</style>\n<table border=\"1\" class=\"dataframe\">\n  <thead>\n    <tr style=\"text-align: right;\">\n      <th></th>\n      <th>processed_synopsis_t1</th>\n      <th>processed_synopsis_t2</th>\n    </tr>\n  </thead>\n  <tbody>\n    <tr>\n      <th>0</th>\n      <td>note: this synopsis is for the orginal italian...</td>\n      <td>note: synopsis orginal italian release segment...</td>\n    </tr>\n    <tr>\n      <th>1</th>\n      <td>two thousand years ago, nhagruul the foul, a s...</td>\n      <td>thousand years ago, nhagruul foul, sorcerer re...</td>\n    </tr>\n    <tr>\n      <th>2</th>\n      <td>matuschek is, a gift store in budapest, is the...</td>\n      <td>matuschek is, gift store budapest, workplace a...</td>\n    </tr>\n  </tbody>\n</table>\n</div>"
     },
     "metadata": {}
    }
   ],
   "source": [
    "sampleDF=mpstDF_processsed[[\"processed_synopsis_t1\",\"processed_synopsis_t2\"]].head(3)\n",
    "sampleDF[\"processed_synopsis_t1\"]=sampleDF[\"processed_synopsis_t1\"].apply(lambda x : x[:1000])\n",
    "sampleDF[\"processed_synopsis_t2\"]=sampleDF[\"processed_synopsis_t2\"].apply(lambda x : x[:1000])\n",
    "display(sampleDF)"
   ]
  },
  {
   "cell_type": "code",
   "execution_count": 16,
   "metadata": {
    "tags": []
   },
   "outputs": [
    {
     "output_type": "stream",
     "name": "stdout",
     "text": "sample_embeddings.shape (3, 768)\n[[-1.5467558   0.41237524 -1.3485138  ... -1.2315857   0.12427384\n  -0.17078479]\n [-0.56340367  0.54620034  0.31551552 ... -0.42775282  2.4665885\n  -0.619147  ]\n [-2.0352373  -0.74594027 -1.2482884  ... -0.04706213 -0.4213665\n   0.09544098]]\n"
    }
   ],
   "source": [
    "# sample_embeddings=getXLNetEmbeddings_testMode(sampleDF,\"processed_synopsis_t1\",verbose=True)\n",
    "sample_embeddings=getXLNetEmbeddings(sampleDF,\"processed_synopsis_t1\")\n",
    "print(\"sample_embeddings.shape\",sample_embeddings.shape)\n",
    "print(sample_embeddings)\n"
   ]
  },
  {
   "cell_type": "code",
   "execution_count": 17,
   "metadata": {},
   "outputs": [
    {
     "output_type": "execute_result",
     "data": {
      "text/plain": "[67,\n 428,\n 1910,\n 19,\n 24,\n 5907,\n 326,\n 812,\n 3342,\n 9662,\n 17,\n 10,\n 3869,\n 12012,\n 2844,\n 11,\n 1897,\n 11003,\n 19,\n 25,\n 1442,\n 19,\n 3224,\n 19,\n 21,\n 27,\n 25,\n 987,\n 20,\n 18,\n 17,\n 12,\n 2730,\n 7684,\n 12,\n 99,\n 21077,\n 4310,\n 25,\n 18,\n 9052,\n 368,\n 2694,\n 7358,\n 20,\n 1910,\n 9,\n 4,\n 3]"
     },
     "metadata": {},
     "execution_count": 17
    }
   ],
   "source": [
    "tokenizer.encode(\"In May 1980, a Cuban man named Tony Montana (Al Pacino) claims asylum, in Florida, USA, and is in search of the \\\"American Dream\\\" after departing Cuba in the Mariel boatlift of 1980.\")#,\"When questioned by three tough-talking INS officials, they notice a tattoo on Tony's left arm of a black heart with a pitchfork through it, which identifies him as a hitman, and detain him in a camp called 'Freedomtown' with other Cubans\"])"
   ]
  },
  {
   "cell_type": "markdown",
   "metadata": {},
   "source": [
    "HERE: make sure that the output is (3, 768). Where 3 is the number of texts we sent to the model and 768 is the output of embedding length for the model chosen."
   ]
  },
  {
   "cell_type": "markdown",
   "metadata": {},
   "source": [
    "Now We run the model for each text we have in our Dataset "
   ]
  },
  {
   "cell_type": "code",
   "execution_count": null,
   "metadata": {},
   "outputs": [],
   "source": []
  },
  {
   "cell_type": "code",
   "execution_count": 18,
   "metadata": {},
   "outputs": [],
   "source": [
    "import time\n",
    "start_time = time.time()\n",
    "print(start_time)"
   ]
  },
  {
   "cell_type": "code",
   "execution_count": null,
   "metadata": {},
   "outputs": [],
   "source": [
    "#For Type 1 Embeddings\n",
    "xlnet_embeddings_t1=getXLNetEmbeddings(mpstDF_processsed,\"processed_synopsis_t1_short\")"
   ]
  },
  {
   "cell_type": "code",
   "execution_count": null,
   "metadata": {},
   "outputs": [],
   "source": [
    "print(\"Shape: \",xlnet_embeddings_t1.shape)\n",
    "print(\"XL Embedding for Type 1\")\n",
    "print(xlnet_embeddings_t1)"
   ]
  },
  {
   "cell_type": "code",
   "execution_count": null,
   "metadata": {},
   "outputs": [],
   "source": [
    "np.savez(\"xl_embeddings_type1.npz\",xlnet_embeddings_t1)"
   ]
  },
  {
   "cell_type": "code",
   "execution_count": null,
   "metadata": {},
   "outputs": [],
   "source": [
    "#For Type 2 Embeddings\n",
    "xlnet_embeddings_t2=getXLNetEmbeddings(mpstDF_processsed,\"processed_synopsis_t2_short\")\n"
   ]
  },
  {
   "cell_type": "code",
   "execution_count": null,
   "metadata": {},
   "outputs": [],
   "source": [
    "print(\"Shape: \",xlnet_embeddings_t2.shape)\n",
    "print(\"Embedding\")\n",
    "print(xlnet_embeddings_t2)"
   ]
  },
  {
   "cell_type": "code",
   "execution_count": null,
   "metadata": {},
   "outputs": [],
   "source": [
    "np.savez(\"xl_embeddings_type1.npz\",xlnet_embeddings_t2)"
   ]
  },
  {
   "cell_type": "markdown",
   "metadata": {},
   "source": [
    "Saved the embeddings in different files\n",
    "Now saving them in the same file"
   ]
  },
  {
   "cell_type": "code",
   "execution_count": null,
   "metadata": {},
   "outputs": [],
   "source": [
    "np.savez(\"xl_embeddings.npz\",t1=xlnet_embeddings_t1,t2=xlnet_embeddings_t2)"
   ]
  },
  {
   "cell_type": "code",
   "execution_count": null,
   "metadata": {},
   "outputs": [],
   "source": [
    "em_check=np.load(\"xl_embeddings.npz\")\n",
    "print(\"t1\")\n",
    "print(em_check[\"t1\"])\n",
    "print(em_check[\"t1\"].shape)\n",
    "print(\"t2\")\n",
    "print(em_check[\"t2\"])\n",
    "print(em_check[\"t2\"].shape)\n"
   ]
  },
  {
   "cell_type": "code",
   "execution_count": null,
   "metadata": {},
   "outputs": [],
   "source": [
    "print(\"--- %s seconds ---\" % (time.time() - start_time))"
   ]
  },
  {
   "cell_type": "code",
   "execution_count": null,
   "metadata": {},
   "outputs": [],
   "source": []
  }
 ],
 "metadata": {
  "kernelspec": {
   "display_name": "Python 3.7.9 64-bit ('Thesis': conda)",
   "language": "python",
   "name": "python_defaultSpec_1601902760973"
  },
  "language_info": {
   "codemirror_mode": {
    "name": "ipython",
    "version": 3
   },
   "file_extension": ".py",
   "mimetype": "text/x-python",
   "name": "python",
   "nbconvert_exporter": "python",
   "pygments_lexer": "ipython3",
   "version": "3.7.9-final"
  }
 },
 "nbformat": 4,
 "nbformat_minor": 4
}