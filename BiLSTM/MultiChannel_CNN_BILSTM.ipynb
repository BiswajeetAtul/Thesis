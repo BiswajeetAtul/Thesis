{
 "cells": [
  {
   "cell_type": "code",
   "execution_count": 1,
   "metadata": {},
   "outputs": [
    {
     "output_type": "stream",
     "name": "stderr",
     "text": [
      "Using TensorFlow backend.\n"
     ]
    }
   ],
   "source": [
    "import prettytable\n",
    "import tensorflow as tf\n",
    "from keras import callbacks, initializers, optimizers, regularizers\n",
    "from keras.layers import (LSTM, Bidirectional, Concatenate, Conv1D, Dense,\n",
    "                          Dropout, Flatten, Input, MaxPooling1D,\n",
    "                          TimeDistributed)\n",
    "from keras.models import Model, Sequential\n",
    "from sklearn.metrics import (accuracy_score, f1_score, hamming_loss,\n",
    "                             precision_recall_curve, precision_score,\n",
    "                             recall_score)\n",
    "from sklearn.model_selection import train_test_split\n",
    "from keras.models import load_model\n"
   ]
  },
  {
   "cell_type": "code",
   "execution_count": 2,
   "metadata": {},
   "outputs": [
    {
     "output_type": "execute_result",
     "data": {
      "text/plain": [
       "'2.1.0'"
      ]
     },
     "metadata": {},
     "execution_count": 2
    }
   ],
   "source": [
    "tf.__version__"
   ]
  },
  {
   "cell_type": "code",
   "execution_count": 3,
   "metadata": {},
   "outputs": [],
   "source": [
    "import pandas as pd\n",
    "import numpy as np\n",
    "import datetime"
   ]
  },
  {
   "cell_type": "code",
   "execution_count": 4,
   "metadata": {},
   "outputs": [
    {
     "output_type": "stream",
     "name": "stdout",
     "text": [
      "Default GPU Device:/device:GPU:0\n"
     ]
    }
   ],
   "source": [
    "if tf.test.gpu_device_name(): \n",
    "    print('Default GPU Device:{}'.format(tf.test.gpu_device_name()))\n",
    "else:\n",
    "    print(\"Please install GPU version of TF\")"
   ]
  },
  {
   "cell_type": "code",
   "execution_count": 5,
   "metadata": {},
   "outputs": [],
   "source": [
    "# Loading Tensorboard Extension\n",
    "%load_ext tensorboard"
   ]
  },
  {
   "cell_type": "code",
   "execution_count": 6,
   "metadata": {},
   "outputs": [],
   "source": [
    "from MultiChannelBiLSTMCNN import BalanceNet"
   ]
  },
  {
   "cell_type": "code",
   "execution_count": 7,
   "metadata": {},
   "outputs": [],
   "source": [
    "# Metrics Calculator Function\n",
    "def evaluate_model(real, predicted):\n",
    "    accuracy = accuracy_score(real, predicted)\n",
    "    hamLoss = hamming_loss(real, predicted)\n",
    "    # element wise correctness\n",
    "    term_wise_accuracy = np.sum(np.logical_not(\n",
    "        np.logical_xor(real, predicted)))/real.size\n",
    "\n",
    "    macro_precision = precision_score(real, predicted, average='macro')\n",
    "    macro_recall = recall_score(real, predicted, average='macro')\n",
    "    macro_f1 = f1_score(real, predicted, average='macro')\n",
    "\n",
    "    micro_precision = precision_score(real, predicted, average='micro')\n",
    "    micro_recall = recall_score(real, predicted, average='micro')\n",
    "    micro_f1 = f1_score(real, predicted, average='micro')\n",
    "\n",
    "    metricTable = prettytable.PrettyTable()\n",
    "    metricTable.field_names = [\"Metric\", \"Macro Value\", \"Micro Value\"]\n",
    "    metricTable.add_row([\"Hamming Loss\", \"{0:.3f}\".format(hamLoss), \"\"])\n",
    "    metricTable.add_row(\n",
    "        [\"Term Wise Accuracy\", \"{0:.3f}\".format(term_wise_accuracy), \"\"])\n",
    "\n",
    "    metricTable.add_row([\"Accuracy\", \"{0:.3f}\".format(accuracy), \"\"])\n",
    "    metricTable.add_row([\"Precision\", \"{0:.3f}\".format(\n",
    "        macro_precision), \"{0:.3f}\".format(micro_precision)])\n",
    "    metricTable.add_row([\"Recall\", \"{0:.3f}\".format(\n",
    "        macro_recall), \"{0:.3f}\".format(micro_recall)])\n",
    "    metricTable.add_row(\n",
    "        [\"F1-measure\", \"{0:.3f}\".format(macro_f1), \"{0:.3f}\".format(micro_f1)])\n",
    "\n",
    "    print(metricTable)"
   ]
  },
  {
   "cell_type": "code",
   "execution_count": 8,
   "metadata": {},
   "outputs": [],
   "source": [
    "#Helper Functions\n",
    "def get_lr_metric(optimizer):\n",
    "    def lr(y_true, y_pred):\n",
    "        return optimizer.lr\n",
    "    return lr\n",
    "  \n",
    "def initial_boost(epoch):\n",
    "    if epoch==0: return float(8.0)\n",
    "    elif epoch==1: return float(4.0)\n",
    "    elif epoch==2: return float(2.0)\n",
    "    elif epoch==3: return float(1.5)\n",
    "    else: return float(1.0)\n",
    "\n",
    "def step_cyclic(epoch):\n",
    "    try:\n",
    "        l_r, decay = 1.0, 0.0001\n",
    "        if epoch%33==0:multiplier = 10\n",
    "        else:multiplier = 1\n",
    "        rate = float(multiplier * l_r * 1/(1 + decay * epoch))\n",
    "        #print(\"Epoch\",epoch+1,\"- learning_rate\",rate)\n",
    "        return rate\n",
    "    except Exception as e:\n",
    "        print(\"Error in lr_schedule:\",str(e))\n",
    "        return float(1.0)\n"
   ]
  },
  {
   "source": [
    "Loading Data"
   ],
   "cell_type": "markdown",
   "metadata": {}
  },
  {
   "cell_type": "code",
   "execution_count": 9,
   "metadata": {},
   "outputs": [
    {
     "output_type": "execute_result",
     "data": {
      "text/plain": [
       "         imdb_id                                          title  \\\n",
       "0      tt0057603                        I tre volti della paura   \n",
       "1      tt1733125  Dungeons & Dragons: The Book of Vile Darkness   \n",
       "2      tt0033045                     The Shop Around the Corner   \n",
       "3      tt0113862                             Mr. Holland's Opus   \n",
       "4      tt0086250                                       Scarface   \n",
       "...          ...                                            ...   \n",
       "14823  tt0219952                                  Lucky Numbers   \n",
       "14824  tt1371159                                     Iron Man 2   \n",
       "14825  tt0063443                                     Play Dirty   \n",
       "14826  tt0039464                                      High Wall   \n",
       "14827  tt0235166                               Against All Hope   \n",
       "\n",
       "                                           plot_synopsis  \\\n",
       "0      Note: this synopsis is for the orginal Italian...   \n",
       "1      Two thousand years ago, Nhagruul the Foul, a s...   \n",
       "2      Matuschek's, a gift store in Budapest, is the ...   \n",
       "3      Glenn Holland, not a morning person by anyone'...   \n",
       "4      In May 1980, a Cuban man named Tony Montana (A...   \n",
       "...                                                  ...   \n",
       "14823  In 1988 Russ Richards (John Travolta), the wea...   \n",
       "14824  In Russia, the media covers Tony Stark's discl...   \n",
       "14825  During the North African Campaign in World War...   \n",
       "14826  Steven Kenet catches his unfaithful wife in th...   \n",
       "14827  Sometime in the 1950s in Chicago a man, Cecil ...   \n",
       "\n",
       "                                                    tags  split  \\\n",
       "0              cult, horror, gothic, murder, atmospheric  train   \n",
       "1                                               violence  train   \n",
       "2                                               romantic   test   \n",
       "3                 inspiring, romantic, stupid, feel-good  train   \n",
       "4      cruelty, murder, dramatic, cult, violence, atm...    val   \n",
       "...                                                  ...    ...   \n",
       "14823                                     comedy, murder   test   \n",
       "14824                         good versus evil, violence  train   \n",
       "14825                                           anti war  train   \n",
       "14826                                             murder   test   \n",
       "14827                                     christian film   test   \n",
       "\n",
       "      synopsis_source  \n",
       "0                imdb  \n",
       "1                imdb  \n",
       "2                imdb  \n",
       "3                imdb  \n",
       "4                imdb  \n",
       "...               ...  \n",
       "14823       wikipedia  \n",
       "14824       wikipedia  \n",
       "14825       wikipedia  \n",
       "14826       wikipedia  \n",
       "14827       wikipedia  \n",
       "\n",
       "[14828 rows x 6 columns]"
      ],
      "text/html": "<div>\n<style scoped>\n    .dataframe tbody tr th:only-of-type {\n        vertical-align: middle;\n    }\n\n    .dataframe tbody tr th {\n        vertical-align: top;\n    }\n\n    .dataframe thead th {\n        text-align: right;\n    }\n</style>\n<table border=\"1\" class=\"dataframe\">\n  <thead>\n    <tr style=\"text-align: right;\">\n      <th></th>\n      <th>imdb_id</th>\n      <th>title</th>\n      <th>plot_synopsis</th>\n      <th>tags</th>\n      <th>split</th>\n      <th>synopsis_source</th>\n    </tr>\n  </thead>\n  <tbody>\n    <tr>\n      <th>0</th>\n      <td>tt0057603</td>\n      <td>I tre volti della paura</td>\n      <td>Note: this synopsis is for the orginal Italian...</td>\n      <td>cult, horror, gothic, murder, atmospheric</td>\n      <td>train</td>\n      <td>imdb</td>\n    </tr>\n    <tr>\n      <th>1</th>\n      <td>tt1733125</td>\n      <td>Dungeons &amp; Dragons: The Book of Vile Darkness</td>\n      <td>Two thousand years ago, Nhagruul the Foul, a s...</td>\n      <td>violence</td>\n      <td>train</td>\n      <td>imdb</td>\n    </tr>\n    <tr>\n      <th>2</th>\n      <td>tt0033045</td>\n      <td>The Shop Around the Corner</td>\n      <td>Matuschek's, a gift store in Budapest, is the ...</td>\n      <td>romantic</td>\n      <td>test</td>\n      <td>imdb</td>\n    </tr>\n    <tr>\n      <th>3</th>\n      <td>tt0113862</td>\n      <td>Mr. Holland's Opus</td>\n      <td>Glenn Holland, not a morning person by anyone'...</td>\n      <td>inspiring, romantic, stupid, feel-good</td>\n      <td>train</td>\n      <td>imdb</td>\n    </tr>\n    <tr>\n      <th>4</th>\n      <td>tt0086250</td>\n      <td>Scarface</td>\n      <td>In May 1980, a Cuban man named Tony Montana (A...</td>\n      <td>cruelty, murder, dramatic, cult, violence, atm...</td>\n      <td>val</td>\n      <td>imdb</td>\n    </tr>\n    <tr>\n      <th>...</th>\n      <td>...</td>\n      <td>...</td>\n      <td>...</td>\n      <td>...</td>\n      <td>...</td>\n      <td>...</td>\n    </tr>\n    <tr>\n      <th>14823</th>\n      <td>tt0219952</td>\n      <td>Lucky Numbers</td>\n      <td>In 1988 Russ Richards (John Travolta), the wea...</td>\n      <td>comedy, murder</td>\n      <td>test</td>\n      <td>wikipedia</td>\n    </tr>\n    <tr>\n      <th>14824</th>\n      <td>tt1371159</td>\n      <td>Iron Man 2</td>\n      <td>In Russia, the media covers Tony Stark's discl...</td>\n      <td>good versus evil, violence</td>\n      <td>train</td>\n      <td>wikipedia</td>\n    </tr>\n    <tr>\n      <th>14825</th>\n      <td>tt0063443</td>\n      <td>Play Dirty</td>\n      <td>During the North African Campaign in World War...</td>\n      <td>anti war</td>\n      <td>train</td>\n      <td>wikipedia</td>\n    </tr>\n    <tr>\n      <th>14826</th>\n      <td>tt0039464</td>\n      <td>High Wall</td>\n      <td>Steven Kenet catches his unfaithful wife in th...</td>\n      <td>murder</td>\n      <td>test</td>\n      <td>wikipedia</td>\n    </tr>\n    <tr>\n      <th>14827</th>\n      <td>tt0235166</td>\n      <td>Against All Hope</td>\n      <td>Sometime in the 1950s in Chicago a man, Cecil ...</td>\n      <td>christian film</td>\n      <td>test</td>\n      <td>wikipedia</td>\n    </tr>\n  </tbody>\n</table>\n<p>14828 rows × 6 columns</p>\n</div>"
     },
     "metadata": {},
     "execution_count": 9
    }
   ],
   "source": [
    "mpstDF= pd.read_csv(\"mpst.csv\")\n",
    "mpstDF"
   ]
  },
  {
   "cell_type": "code",
   "execution_count": 10,
   "metadata": {},
   "outputs": [],
   "source": [
    "# Data Split Function\n",
    "def get_partition_Embeddings(x_t1,x_t2,y,df,partition_nm):\n",
    "    _df=df[df[\"split\"]==partition_nm]\n",
    "    index_list=list(_df.index)\n",
    "    temp_array_x_t1=[]\n",
    "    temp_array_x_t2=[]\n",
    "    temp_array_y=[]\n",
    "    for index in index_list:\n",
    "        temp_array_x_t1.append(x_t1[index,:])\n",
    "        temp_array_x_t2.append(x_t2[index,:])\n",
    "        temp_array_y.append(y[index,:])\n",
    "    temp_array_x_t1=np.array(temp_array_x_t1)\n",
    "    temp_array_x_t2=np.array(temp_array_x_t2)\n",
    "    temp_array_y=np.array(temp_array_y)\n",
    "    return temp_array_x_t1,temp_array_x_t2, temp_array_y"
   ]
  },
  {
   "cell_type": "code",
   "execution_count": 11,
   "metadata": {},
   "outputs": [],
   "source": [
    "# LOADING BERT  EMBEDDINGS\n",
    "bert_embedding=np.load(r\"D:\\CodeRepo\\Thesis\\Thesis\\XLNet\\xl_embeddings.npz\")\n",
    "# LOADING XLnet EMBEDDINGS\n",
    "xl_embedding=np.load(r\"D:\\CodeRepo\\Thesis\\Thesis\\XLNet\\xl_embeddings.npz\")\n",
    "# LOADING LABELS Y\n",
    "label_values=np.load(r\"D:\\CodeRepo\\Thesis\\Thesis\\EDA\\Y.npz\")"
   ]
  },
  {
   "cell_type": "code",
   "execution_count": 12,
   "metadata": {},
   "outputs": [],
   "source": [
    "# BERT EMBEDDINGS T1 & T2\n",
    "type1_BERT_Embeddings=bert_embedding[\"t1\"]\n",
    "type2_BERT_Embeddings=bert_embedding[\"t2\"]\n",
    "# XLNet EMBEDDINGS T1 & T2\n",
    "type1_XL_Embeddings=xl_embedding[\"t1\"]\n",
    "type2_XL_Embeddings=xl_embedding[\"t2\"]\n",
    "# LABLES Y\n",
    "label_values=label_values[\"arr_0\"]"
   ]
  },
  {
   "cell_type": "code",
   "execution_count": 13,
   "metadata": {},
   "outputs": [],
   "source": [
    "# BERT\n",
    "\n",
    "# FOR TRAIN\n",
    "type1_BERT_Embeddings_Train,type2_BERT_Embeddings_Train,BERT_label_values_Train=get_partition_Embeddings(type1_BERT_Embeddings,type2_BERT_Embeddings,label_values,mpstDF,\"train\")\n",
    "# FOR VALIDATION\n",
    "type1_BERT_Embeddings_Val,type2_BERT_Embeddings_Val,BERT_label_values_Val=get_partition_Embeddings(type1_BERT_Embeddings,type2_BERT_Embeddings,label_values,mpstDF,\"val\")\n",
    "# FOR TEST\n",
    "type1_BERT_Embeddings_Test,type2_BERT_Embeddings_Test,BERT_label_values_Test=get_partition_Embeddings(type1_BERT_Embeddings,type2_BERT_Embeddings,label_values,mpstDF,\"test\")"
   ]
  },
  {
   "cell_type": "code",
   "execution_count": 14,
   "metadata": {},
   "outputs": [],
   "source": [
    "# XLNET\n",
    "\n",
    "# FOR TRAIN\n",
    "type1_XL_Embeddings_Train,type2_XL_Embeddings_Train,XLNET_label_values_Train=get_partition_Embeddings(type1_XL_Embeddings,type2_XL_Embeddings,label_values,mpstDF,\"train\")\n",
    "# FOR VALIDATION\n",
    "type1_XL_Embeddings_Val,type2_XL_Embeddings_Val,XLNET_label_values_Val=get_partition_Embeddings(type1_XL_Embeddings,type2_XL_Embeddings,label_values,mpstDF,\"val\")\n",
    "# FOR TEST\n",
    "type1_XL_Embeddings_Test,type2_XL_Embeddings_Test,XLNET_label_values_Test=get_partition_Embeddings(type1_XL_Embeddings,type2_XL_Embeddings,label_values,mpstDF,\"test\")"
   ]
  },
  {
   "source": [
    "HAVING A LOOK AT THE SHAPES OF EACH PARTITION CREATED:"
   ],
   "cell_type": "markdown",
   "metadata": {}
  },
  {
   "cell_type": "code",
   "execution_count": 15,
   "metadata": {},
   "outputs": [
    {
     "output_type": "stream",
     "name": "stdout",
     "text": [
      "SHAPES OF EACH PARTITION _ BERT\n\ntype1_BERT_Embeddings_Train.shape:  (9489, 768)\ntype2_BERT_Embeddings_Train.shape:  (9489, 768)\nBERT_label_values_Train.shape:  (9489, 71)\ntype1_BERT_Embeddings_Val.shape:  (2373, 768)\ntype2_BERT_Embeddings_Val.shape:  (2373, 768)\nBERT_label_values_Val.shape:  (2373, 71)\ntype1_BERT_Embeddings_Test.shape:  (2966, 768)\ntype2_BERT_Embeddings_Test.shape:  (2966, 768)\nBERT_label_values_Test.shape:  (2966, 71)\nSHAPES OF EACH PARTITION _ XLNET\n\ntype1_XL_Embeddings_Train.shape:  (9489, 768)\ntype2_XL_Embeddings_Train.shape:  (9489, 768)\nXLNET_label_values_Train.shape:  (9489, 71)\ntype1_XL_Embeddings_Val.shape:  (2373, 768)\ntype2_XL_Embeddings_Val.shape:  (2373, 768)\nXLNET_label_values_Val.shape:  (2373, 71)\ntype1_XL_Embeddings_Test.shape:  (2966, 768)\ntype2_XL_Embeddings_Test.shape:  (2966, 768)\nXLNET_label_values_Test.shape:  (2966, 71)\nSHAPES OF EACH PARTITION _ BERT\n\ntype1_BERT_Embeddings_Train.:  [[-2.333117    0.7328038   0.04426328 ... -0.08736744 -0.7796799\n   0.91549385]\n [-0.68435717  0.20561107  1.0846754  ... -0.5544154   1.3279868\n  -0.5279333 ]\n [-0.8616366  -0.07106075 -1.6272864  ...  0.43291882 -1.1531446\n   0.96043503]\n ...\n [ 0.13103236 -1.8318506  -1.6702073  ...  0.48938644 -1.1472857\n   0.73014414]\n [-2.1046846   0.9153419   0.45613348 ...  0.35717207 -0.38135093\n   0.65046066]\n [-2.0119467  -0.61891806 -0.2853785  ...  1.3546127   0.17829654\n  -0.32963297]]\ntype2_BERT_Embeddings_Train.:  [[-1.1041279   0.7312169  -0.7160296  ... -1.1096342   0.02258597\n  -0.22847919]\n [-0.6814843   0.40997314 -0.00450579 ... -0.7261082   0.871102\n   0.28894395]\n [-0.880342   -0.31377012 -0.87731165 ... -0.47135696 -0.25688243\n   0.8662912 ]\n ...\n [-0.74574816 -0.36092088 -1.2522244  ... -0.19444613 -0.00248033\n   0.84975207]\n [-1.6853124   0.982764    0.45230147 ...  0.00419476  0.09003887\n   1.2138213 ]\n [-1.0978851  -0.07546298 -0.09644943 ...  0.35488805  0.1416101\n   1.1022444 ]]\nBERT_label_values_Train.:  [[0 0 0 ... 0 0 0]\n [0 0 0 ... 1 0 0]\n [0 0 0 ... 0 0 0]\n ...\n [0 0 0 ... 1 0 0]\n [0 0 0 ... 1 0 0]\n [0 0 0 ... 0 0 0]]\ntype1_BERT_Embeddings_Val.:  [[-1.724195   -0.18644059 -1.3847002  ... -0.24220115 -0.47373167\n   0.17687573]\n [-1.7328922  -0.75544524 -1.3409745  ... -0.73608744 -0.47683832\n   0.9812624 ]\n [-0.4690799  -0.7823237  -0.89326704 ... -0.6372853  -0.42456573\n  -0.3892136 ]\n ...\n [-2.047429    0.84689385 -1.6092843  ...  0.47031114  0.6824576\n  -2.0910456 ]\n [-2.1610858  -0.42343566  0.0896145  ...  0.08766028  0.6301933\n  -1.5156782 ]\n [-1.2949383  -0.45608175 -0.9925543  ... -0.5866869   0.08331414\n   0.31308964]]\ntype2_BERT_Embeddings_Val.:  [[-1.4168882   0.15406662 -1.7007791  ... -0.12171233 -0.13148104\n  -0.5208332 ]\n [-0.33846205 -0.2642498  -1.1163353  ... -0.8021653  -0.563\n   0.72895736]\n [-0.85696316 -0.67706174 -1.1916689  ... -0.65651685 -0.5815179\n   1.0469415 ]\n ...\n [-1.0883361   1.1182543  -0.11477457 ... -0.95007193 -0.9402632\n  -1.0461214 ]\n [-2.4710774   0.04263473 -0.8014267  ... -0.51679814  0.9243769\n  -0.9391736 ]\n [-0.33632323  0.23742555 -0.89315057 ... -0.90124476 -0.06967218\n  -0.1662782 ]]\nBERT_label_values_Val.:  [[0 1 0 ... 1 0 0]\n [0 0 0 ... 0 0 0]\n [0 0 0 ... 0 0 0]\n ...\n [0 0 0 ... 0 0 0]\n [0 0 0 ... 1 0 0]\n [0 0 0 ... 0 0 0]]\ntype1_BERT_Embeddings_Test.shape:  [[-1.9809484  -0.6992686  -0.91347814 ...  0.7089055   0.11894006\n   0.4480172 ]\n [-0.84975183 -0.538029   -1.391866   ...  0.47141784 -0.7222437\n  -0.06520037]\n [-2.6995983  -1.0260197  -0.6370995  ... -0.67485505  0.34770787\n  -0.80995077]\n ...\n [-2.499969   -0.24800475 -0.38243118 ...  0.500359    0.17817856\n   0.63274205]\n [-1.9518135   0.0488037  -1.7838176  ...  0.37025616 -0.43593258\n   0.49770826]\n [-0.53094137 -0.5506314   0.09211962 ... -0.5106418   1.4054636\n  -0.46292305]]\ntype2_BERT_Embeddings_Test.shape:  [[-1.5265968  -0.2902775  -0.6303203  ... -0.4950492   0.20074049\n   0.84848535]\n [-1.1269717   0.40846175 -0.01210781 ...  0.2974643  -0.21717305\n  -0.43774125]\n [-1.6852893  -0.33794993 -1.1118177  ... -0.8046879  -0.24153566\n   0.53618044]\n ...\n [-1.054332    0.25229695 -0.7077129  ... -0.33052695  0.41456184\n   0.72335166]\n [-1.1982068   1.1937346  -0.8980867  ... -0.77720964 -1.092974\n  -0.07756492]\n [-0.00220318  0.16499077 -1.3319939  ... -0.99019504 -0.71211934\n  -0.1459935 ]]\nBERT_label_values_Test.shape:  [[0 0 0 ... 0 0 0]\n [0 0 0 ... 0 0 0]\n [0 0 0 ... 0 0 0]\n ...\n [0 0 0 ... 0 0 0]\n [0 0 0 ... 0 0 0]\n [0 0 0 ... 0 0 0]]\nSHAPES OF EACH PARTITION _ XLNET\n\ntype1_XL_Embeddings_Train:  [[-2.333117    0.7328038   0.04426328 ... -0.08736744 -0.7796799\n   0.91549385]\n [-0.68435717  0.20561107  1.0846754  ... -0.5544154   1.3279868\n  -0.5279333 ]\n [-0.8616366  -0.07106075 -1.6272864  ...  0.43291882 -1.1531446\n   0.96043503]\n ...\n [ 0.13103236 -1.8318506  -1.6702073  ...  0.48938644 -1.1472857\n   0.73014414]\n [-2.1046846   0.9153419   0.45613348 ...  0.35717207 -0.38135093\n   0.65046066]\n [-2.0119467  -0.61891806 -0.2853785  ...  1.3546127   0.17829654\n  -0.32963297]]\ntype2_XL_Embeddings_Train:  [[-1.1041279   0.7312169  -0.7160296  ... -1.1096342   0.02258597\n  -0.22847919]\n [-0.6814843   0.40997314 -0.00450579 ... -0.7261082   0.871102\n   0.28894395]\n [-0.880342   -0.31377012 -0.87731165 ... -0.47135696 -0.25688243\n   0.8662912 ]\n ...\n [-0.74574816 -0.36092088 -1.2522244  ... -0.19444613 -0.00248033\n   0.84975207]\n [-1.6853124   0.982764    0.45230147 ...  0.00419476  0.09003887\n   1.2138213 ]\n [-1.0978851  -0.07546298 -0.09644943 ...  0.35488805  0.1416101\n   1.1022444 ]]\nXLNET_label_values_Train:  [[0 0 0 ... 0 0 0]\n [0 0 0 ... 1 0 0]\n [0 0 0 ... 0 0 0]\n ...\n [0 0 0 ... 1 0 0]\n [0 0 0 ... 1 0 0]\n [0 0 0 ... 0 0 0]]\ntype1_XL_Embeddings_Val:  [[-1.724195   -0.18644059 -1.3847002  ... -0.24220115 -0.47373167\n   0.17687573]\n [-1.7328922  -0.75544524 -1.3409745  ... -0.73608744 -0.47683832\n   0.9812624 ]\n [-0.4690799  -0.7823237  -0.89326704 ... -0.6372853  -0.42456573\n  -0.3892136 ]\n ...\n [-2.047429    0.84689385 -1.6092843  ...  0.47031114  0.6824576\n  -2.0910456 ]\n [-2.1610858  -0.42343566  0.0896145  ...  0.08766028  0.6301933\n  -1.5156782 ]\n [-1.2949383  -0.45608175 -0.9925543  ... -0.5866869   0.08331414\n   0.31308964]]\ntype2_XL_Embeddings_Val:  [[-1.4168882   0.15406662 -1.7007791  ... -0.12171233 -0.13148104\n  -0.5208332 ]\n [-0.33846205 -0.2642498  -1.1163353  ... -0.8021653  -0.563\n   0.72895736]\n [-0.85696316 -0.67706174 -1.1916689  ... -0.65651685 -0.5815179\n   1.0469415 ]\n ...\n [-1.0883361   1.1182543  -0.11477457 ... -0.95007193 -0.9402632\n  -1.0461214 ]\n [-2.4710774   0.04263473 -0.8014267  ... -0.51679814  0.9243769\n  -0.9391736 ]\n [-0.33632323  0.23742555 -0.89315057 ... -0.90124476 -0.06967218\n  -0.1662782 ]]\nXLNET_label_values_Val:  [[0 1 0 ... 1 0 0]\n [0 0 0 ... 0 0 0]\n [0 0 0 ... 0 0 0]\n ...\n [0 0 0 ... 0 0 0]\n [0 0 0 ... 1 0 0]\n [0 0 0 ... 0 0 0]]\ntype1_XL_Embeddings_Test:  [[-1.9809484  -0.6992686  -0.91347814 ...  0.7089055   0.11894006\n   0.4480172 ]\n [-0.84975183 -0.538029   -1.391866   ...  0.47141784 -0.7222437\n  -0.06520037]\n [-2.6995983  -1.0260197  -0.6370995  ... -0.67485505  0.34770787\n  -0.80995077]\n ...\n [-2.499969   -0.24800475 -0.38243118 ...  0.500359    0.17817856\n   0.63274205]\n [-1.9518135   0.0488037  -1.7838176  ...  0.37025616 -0.43593258\n   0.49770826]\n [-0.53094137 -0.5506314   0.09211962 ... -0.5106418   1.4054636\n  -0.46292305]]\ntype2_XL_Embeddings_Test:  [[-1.5265968  -0.2902775  -0.6303203  ... -0.4950492   0.20074049\n   0.84848535]\n [-1.1269717   0.40846175 -0.01210781 ...  0.2974643  -0.21717305\n  -0.43774125]\n [-1.6852893  -0.33794993 -1.1118177  ... -0.8046879  -0.24153566\n   0.53618044]\n ...\n [-1.054332    0.25229695 -0.7077129  ... -0.33052695  0.41456184\n   0.72335166]\n [-1.1982068   1.1937346  -0.8980867  ... -0.77720964 -1.092974\n  -0.07756492]\n [-0.00220318  0.16499077 -1.3319939  ... -0.99019504 -0.71211934\n  -0.1459935 ]]\nXLNET_label_values_Test:  [[0 0 0 ... 0 0 0]\n [0 0 0 ... 0 0 0]\n [0 0 0 ... 0 0 0]\n ...\n [0 0 0 ... 0 0 0]\n [0 0 0 ... 0 0 0]\n [0 0 0 ... 0 0 0]]\n"
     ]
    }
   ],
   "source": [
    "print(\"SHAPES OF EACH PARTITION _ BERT\\n\")\n",
    "print(\"type1_BERT_Embeddings_Train.shape: \", type1_BERT_Embeddings_Train.shape)\n",
    "print(\"type2_BERT_Embeddings_Train.shape: \", type2_BERT_Embeddings_Train.shape)\n",
    "print(\"BERT_label_values_Train.shape: \"    , BERT_label_values_Train.shape)\n",
    "\n",
    "print(\"type1_BERT_Embeddings_Val.shape: \", type1_BERT_Embeddings_Val.shape)\n",
    "print(\"type2_BERT_Embeddings_Val.shape: \", type2_BERT_Embeddings_Val.shape)\n",
    "print(\"BERT_label_values_Val.shape: \"    , BERT_label_values_Val.shape)\n",
    "\n",
    "print(\"type1_BERT_Embeddings_Test.shape: \", type1_BERT_Embeddings_Test.shape)\n",
    "print(\"type2_BERT_Embeddings_Test.shape: \", type2_BERT_Embeddings_Test.shape)\n",
    "print(\"BERT_label_values_Test.shape: \"    , BERT_label_values_Test.shape)\n",
    "\n",
    "print(\"SHAPES OF EACH PARTITION _ XLNET\\n\")\n",
    "\n",
    "print(\"type1_XL_Embeddings_Train.shape: \", type1_XL_Embeddings_Train.shape)\n",
    "print(\"type2_XL_Embeddings_Train.shape: \", type2_XL_Embeddings_Train.shape)\n",
    "print(\"XLNET_label_values_Train.shape: \" , XLNET_label_values_Train.shape)\n",
    "\n",
    "print(\"type1_XL_Embeddings_Val.shape: \", type1_XL_Embeddings_Val.shape)\n",
    "print(\"type2_XL_Embeddings_Val.shape: \", type2_XL_Embeddings_Val.shape)\n",
    "print(\"XLNET_label_values_Val.shape: \" , XLNET_label_values_Val.shape)\n",
    "\n",
    "print(\"type1_XL_Embeddings_Test.shape: \", type1_XL_Embeddings_Test.shape)\n",
    "print(\"type2_XL_Embeddings_Test.shape: \", type2_XL_Embeddings_Test.shape)\n",
    "print(\"XLNET_label_values_Test.shape: \" , XLNET_label_values_Test.shape)\n",
    "\n",
    "print(\"SHAPES OF EACH PARTITION _ BERT\\n\")\n",
    "print(\"type1_BERT_Embeddings_Train.: \", type1_BERT_Embeddings_Train)\n",
    "print(\"type2_BERT_Embeddings_Train.: \", type2_BERT_Embeddings_Train)\n",
    "print(\"BERT_label_values_Train.: \"    , BERT_label_values_Train)\n",
    "\n",
    "print(\"type1_BERT_Embeddings_Val.: \", type1_BERT_Embeddings_Val)\n",
    "print(\"type2_BERT_Embeddings_Val.: \", type2_BERT_Embeddings_Val)\n",
    "print(\"BERT_label_values_Val.: \"    , BERT_label_values_Val)\n",
    "\n",
    "print(\"type1_BERT_Embeddings_Test.shape: \", type1_BERT_Embeddings_Test)\n",
    "print(\"type2_BERT_Embeddings_Test.shape: \", type2_BERT_Embeddings_Test)\n",
    "print(\"BERT_label_values_Test.shape: \"    , BERT_label_values_Test)\n",
    "\n",
    "print(\"SHAPES OF EACH PARTITION _ XLNET\\n\")\n",
    "\n",
    "print(\"type1_XL_Embeddings_Train: \", type1_XL_Embeddings_Train)\n",
    "print(\"type2_XL_Embeddings_Train: \", type2_XL_Embeddings_Train)\n",
    "print(\"XLNET_label_values_Train: \" , XLNET_label_values_Train)\n",
    "\n",
    "print(\"type1_XL_Embeddings_Val: \", type1_XL_Embeddings_Val)\n",
    "print(\"type2_XL_Embeddings_Val: \", type2_XL_Embeddings_Val)\n",
    "print(\"XLNET_label_values_Val: \" , XLNET_label_values_Val)\n",
    "\n",
    "print(\"type1_XL_Embeddings_Test: \", type1_XL_Embeddings_Test)\n",
    "print(\"type2_XL_Embeddings_Test: \", type2_XL_Embeddings_Test)\n",
    "print(\"XLNET_label_values_Test: \" , XLNET_label_values_Test)\n"
   ]
  },
  {
   "cell_type": "code",
   "execution_count": 16,
   "metadata": {},
   "outputs": [],
   "source": [
    "# function to reshape my input\n",
    "def tensor_reshape(input, timestep, features):\n",
    "  reshaped= input.reshape(type1_BERT_Embeddings_Train.shape[0], timestep, features)\n",
    "  return reshaped"
   ]
  },
  {
   "source": [
    "STARTING THE MODEL\n",
    "possible combination in inputs:\n",
    "(timestep, features)\n",
    "- (1, 768)\n",
    "- (2, 384)\n",
    "- (3, 256)\n",
    "- (4, 192)\n",
    "- (6, 128)\n",
    "- (12, 64)"
   ],
   "cell_type": "markdown",
   "metadata": {}
  },
  {
   "source": [
    "## MODEL (1, 768):\n"
   ],
   "cell_type": "markdown",
   "metadata": {}
  },
  {
   "cell_type": "code",
   "execution_count": null,
   "metadata": {},
   "outputs": [],
   "source": [
    "INPUT_SHAPE =(1,768)\n",
    "EM_L_F_UNITS= 768\n",
    "EM_L_T_UNITS= 768\n",
    "# LEFT CHANNEL\n",
    "LSTM_1F_UNITS= 768\n",
    "LSTM_1T_UNITS= 768\n",
    "\n",
    "CONV_2_FILTER= 24\n",
    "CONV_2_KERNEL= 2\n",
    "CONV_3_FILTER= 24\n",
    "CONV_3_KERNEL= 2\n",
    "CONV_5_FILTER= 24\n",
    "CONV_5_KERNEL= 2\n",
    "CONV_6_FILTER= 24\n",
    "CONV_6_KERNEL= 2\n",
    "CONV_8_FILTER= 24\n",
    "CONV_8_KERNEL= 2\n",
    "\n",
    "# RIGHT CHANNEL \n",
    "CONV_4F_FILTERS = 12\n",
    "CONV_4F_KERNEL = 2\n",
    "CONV_4T_FILTERS = 12\n",
    "CONV_4T_KERNEL = 2\n",
    "\n",
    "CONV_3F_FILTERS = 12\n",
    "CONV_3F_KERNEL = 2\n",
    "CONV_3T_FILTERS = 12\n",
    "CONV_3T_KERNEL = 2\n",
    "\n",
    "CONV_2F_FILTERS = 12\n",
    "CONV_2F_KERNEL = 2\n",
    "CONV_2T_FILTERS = 12\n",
    "CONV_2T_KERNEL = 2\n",
    "\n",
    "LSTM_2_C_L_UNITS = 128\n",
    "\n"
   ]
  },
  {
   "cell_type": "code",
   "execution_count": null,
   "metadata": {},
   "outputs": [],
   "source": [
    "model_1_768 = BalanceNet(\n",
    "    INPUT_SHAPE =(1,768)\n",
    "EM_L_F_UNITS= 768\n",
    "EM_L_T_UNITS= 768\n",
    "# LEFT CHANNEL\n",
    "LSTM_1F_UNITS= 768\n",
    "LSTM_1T_UNITS= 768\n",
    "\n",
    "CONV_2_FILTER= 24\n",
    "CONV_2_KERNEL= 2\n",
    "CONV_3_FILTER= 24\n",
    "CONV_3_KERNEL= 2\n",
    "CONV_5_FILTER= 24\n",
    "CONV_5_KERNEL= 2\n",
    "CONV_6_FILTER= 24\n",
    "CONV_6_KERNEL= 2\n",
    "CONV_8_FILTER= 24\n",
    "CONV_8_KERNEL= 2\n",
    "\n",
    "# RIGHT CHANNEL \n",
    "CONV_4F_FILTERS = 12\n",
    "CONV_4F_KERNEL = 2\n",
    "CONV_4T_FILTERS = 12\n",
    "CONV_4T_KERNEL = 2\n",
    "\n",
    "CONV_3F_FILTERS = 12\n",
    "CONV_3F_KERNEL = 2\n",
    "CONV_3T_FILTERS = 12\n",
    "CONV_3T_KERNEL = 2\n",
    "\n",
    "CONV_2F_FILTERS = 12\n",
    "CONV_2F_KERNEL = 2\n",
    "CONV_2T_FILTERS = 12\n",
    "CONV_2T_KERNEL = 2\n",
    "\n",
    "LSTM_2_C_L_UNITS = 128\n",
    "\n",
    "\n",
    ")"
   ]
  },
  {
   "source": [
    "# CODE BELOW IS COMMENTED THRICE "
   ],
   "cell_type": "markdown",
   "metadata": {}
  },
  {
   "cell_type": "code",
   "execution_count": null,
   "metadata": {},
   "outputs": [],
   "source": [
    "# # # inp_layer = Input(shape=INPUT_SHAPE, dtype=\"float32\")\n",
    "# # # embedding_layer_frozen=TimeDistributed(Dense(EM_L_F_UNITS,  trainable= False))(inp_layer)\n",
    "# # # embedding_layer_train= TimeDistributed(Dense(EM_L_T_UNITS,  trainable= True))(inp_layer)\n",
    "# # # print(\"inp_layer\",inp_layer.shape)\n",
    "# # # print(\"embedding_layer_frozen\",embedding_layer_frozen.shape)\n",
    "# # # print(\"embedding_layer_train\",embedding_layer_train.shape)"
   ]
  },
  {
   "source": [
    "### LSTM TO CNN LEFT CHANNEL"
   ],
   "cell_type": "markdown",
   "metadata": {}
  },
  {
   "source": [
    "### LEFT LSTM PART"
   ],
   "cell_type": "markdown",
   "metadata": {}
  },
  {
   "cell_type": "code",
   "execution_count": null,
   "metadata": {},
   "outputs": [],
   "source": [
    "# # # l_lstm_1f =Bidirectional(LSTM(LSTM_1F_UNITS, return_sequences=True, dropout=0.3, recurrent_dropout=0.0))(embedding_layer_frozen)\n",
    "# # # l_lstm_1t =Bidirectional(LSTM(LSTM_1T_UNITS, return_sequences=True, dropout=0.3, recurrent_dropout=0.0))(embedding_layer_train)\n",
    "\n",
    "# # # l_lstm1 = Concatenate(axis=1)([l_lstm_1f, l_lstm_1t])\n",
    "# # # print(\"l_lstm_1f\",l_lstm_1f.shape)\n",
    "# # # print(\"l_lstm_1t\",l_lstm_1t.shape)\n",
    "# # # print(\"l_lstm1\",l_lstm1.shape)\n"
   ]
  },
  {
   "source": [
    "### LEFT CNN PART"
   ],
   "cell_type": "markdown",
   "metadata": {}
  },
  {
   "cell_type": "code",
   "execution_count": null,
   "metadata": {},
   "outputs": [],
   "source": [
    "\n",
    "# # # l_conv_2 = Conv1D(filters=CONV_2_FILTER, kernel_size=CONV_2_KERNEL, activation='relu')(l_lstm1)\n",
    "# # # l_conv_2 = Dropout(0.3)(l_conv_2)\n",
    "\n",
    "# # # # l_conv_3 = Conv1D(filters=CONV_3_FILTER, kernel_size=CONV_3_KERNEL, activation='relu')(l_lstm1)\n",
    "# # # # l_conv_3 = Dropout(0.3)(l_conv_3)\n",
    "\n",
    "# # # # l_conv_5 = Conv1D(filters=CONV_5_FILTER, kernel_size=CONV_5_KERNEL, activation='relu')(l_lstm1)\n",
    "# # # # l_conv_5 = Dropout(0.3)(l_conv_5)\n",
    "\n",
    "# # # l_conv_6 = Conv1D(filters=CONV_6_FILTER, kernel_size=CONV_6_KERNEL, kernel_regularizer=regularizers.l2(0.001) ,activation='relu')(l_lstm1)\n",
    "# # # l_conv_6 = Dropout(0.3)(l_conv_6)\n",
    "\n",
    "# # # # l_conv_8 = Conv1D(filters=CONV_8_FILTER, kernel_size=CONV_8_KERNEL, kernel_regularizer=regularizers.l2(0.001) ,activation='relu')(l_lstm1)\n",
    "# # # # l_conv_8 = Dropout(0.3)(l_conv_8)\n",
    "\n",
    "# # # # conv_1 =[l_conv_6, l_conv_5, l_conv_8, l_conv_2, l_conv_3 ]\n",
    "# # # conv_1 =[l_conv_6, l_conv_2 ]\n",
    "\n",
    "# # # l_lstm_c = Concatenate(axis =1)(conv_1)\n",
    "# # # print(\"l_conv_2\",l_conv_2.shape)\n",
    "# # # print(\"l_conv_6\",l_conv_6.shape)\n",
    "# # # print(\"l_lstm_c\",l_lstm_c.shape)"
   ]
  },
  {
   "source": [
    "### CNN TO LSTM RIGHT CHANNEL"
   ],
   "cell_type": "markdown",
   "metadata": {}
  },
  {
   "source": [
    "### RIGHT CNN PART"
   ],
   "cell_type": "markdown",
   "metadata": {}
  },
  {
   "cell_type": "code",
   "execution_count": null,
   "metadata": {},
   "outputs": [],
   "source": [
    "# # # # CNN TO LSTM\n",
    "# # # l_conv_4f = Conv1D(filters= CONV_4F_FILTERS, kernel_size=CONV_4F_KERNEL, activation='relu', kernel_regularizer=regularizers.l2(0.0001))(embedding_layer_frozen)\n",
    "# # # l_conv_4f = Dropout(0.3)(l_conv_4f)\n",
    "\n",
    "# # # l_conv_4t = Conv1D(filters= CONV_4T_FILTERS, kernel_size=CONV_4T_KERNEL, activation='relu', kernel_regularizer=regularizers.l2(0.0001))(embedding_layer_train)\n",
    "# # # l_conv_4t = Dropout(0.3)(l_conv_4t)\n",
    "\n",
    "# # # l_conv_3f = Conv1D(filters= CONV_3F_FILTERS, kernel_size=CONV_3F_KERNEL, activation='relu')(embedding_layer_frozen)\n",
    "# # # l_conv_3f = Dropout(0.3)(l_conv_3f)\n",
    "\n",
    "# # # l_conv_3t = Conv1D(filters= CONV_3T_FILTERS, kernel_size=CONV_3T_KERNEL, activation='relu')(embedding_layer_train)\n",
    "# # # l_conv_3t = Dropout(0.3)(l_conv_3t)\n",
    "\n",
    "# # # # l_conv_2f = Conv1D(filters= CONV_2F_FILTERS, kernel_size=CONV_2F_KERNEL, activation='relu')(embedding_layer_frozen)\n",
    "# # # # l_conv_2f = Dropout(0.3)(l_conv_2f)\n",
    "\n",
    "# # # # l_conv_2t = Conv1D(filters= CONV_2T_FILTERS, kernel_size=CONV_2T_KERNEL, activation='relu')(embedding_layer_train)\n",
    "# # # # l_conv_2t = Dropout(0.3)(l_conv_2t)\n",
    "\n",
    "# # # # conv_2 = [l_conv_4f, l_conv_4t, l_conv_3f, l_conv_3t, l_conv_2f, l_conv_2t]\n",
    "# # # conv_2 = [l_conv_4f, l_conv_4t, l_conv_3f, l_conv_3t, ]\n",
    "\n",
    "# # # l_merge_2 = Concatenate(axis=1)(conv_2)\n",
    "# # # print(\"l_conv_4f\",l_conv_4f.shape)\n",
    "# # # print(\"l_conv_4t\",l_conv_4t.shape)\n",
    "# # # print(\"l_conv_3f\",l_conv_3f.shape)\n",
    "# # # print(\"l_conv_3t\",l_conv_3t.shape)\n",
    "# # # print(\"l_merge_2\",l_merge_2.shape)"
   ]
  },
  {
   "source": [
    "### RIGHT LSTM PART"
   ],
   "cell_type": "markdown",
   "metadata": {}
  },
  {
   "cell_type": "code",
   "execution_count": null,
   "metadata": {},
   "outputs": [],
   "source": [
    "# # # l_c_lstm = Bidirectional(LSTM(LSTM_2_C_L_UNITS, return_sequences=True, dropout=0.3, recurrent_dropout=0.0))(l_merge_2)\n",
    "# # # print(\"l_c_lstm\",l_c_lstm.shape)\n"
   ]
  },
  {
   "source": [
    "###  FINAL CONCAT"
   ],
   "cell_type": "markdown",
   "metadata": {}
  },
  {
   "cell_type": "code",
   "execution_count": null,
   "metadata": {},
   "outputs": [],
   "source": [
    "\n",
    "# # # l_merge = Concatenate(axis=1)([l_lstm_c, l_c_lstm])\n",
    "# # # l_pool = MaxPooling1D(4)(l_merge)\n",
    "# # # l_drop = Dropout(0.5)(l_pool)\n",
    "# # # l_flat = Flatten()(l_drop)\n",
    "# # # l_dense = Dense(128, activation='sigmoid')(l_flat)\n",
    "# # # preds= Dense(71, activation='sigmoid')(l_dense)"
   ]
  },
  {
   "cell_type": "code",
   "execution_count": null,
   "metadata": {},
   "outputs": [],
   "source": []
  }
 ],
 "metadata": {
  "kernelspec": {
   "name": "Python 3.7.9 64-bit ('LatestTensor': conda)",
   "display_name": "Python 3.7.9 64-bit ('LatestTensor': conda)",
   "metadata": {
    "interpreter": {
     "hash": "0a81886b5eca8297b0be132dcbdde71b7b9ccd4a2b9beb608173c0b9df0b440d"
    }
   }
  },
  "language_info": {
   "codemirror_mode": {
    "name": "ipython",
    "version": 3
   },
   "file_extension": ".py",
   "mimetype": "text/x-python",
   "name": "python",
   "nbconvert_exporter": "python",
   "pygments_lexer": "ipython3",
   "version": "3.7.9-final"
  }
 },
 "nbformat": 4,
 "nbformat_minor": 4
}