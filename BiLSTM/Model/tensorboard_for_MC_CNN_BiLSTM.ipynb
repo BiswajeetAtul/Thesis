{
 "cells": [
  {
   "cell_type": "code",
   "execution_count": 1,
   "metadata": {},
   "outputs": [
    {
     "output_type": "stream",
     "name": "stdout",
     "text": [
      "absl-py @ file:///C:/ci/absl-py_1600290345082/work\n",
      "aiohttp @ file:///C:/ci/aiohttp_1602530358780/work\n",
      "astor==0.8.1\n",
      "async-timeout==3.0.1\n",
      "attrs @ file:///tmp/build/80754af9/attrs_1600298409949/work\n",
      "autopep8 @ file:///tmp/build/80754af9/autopep8_1596578164842/work\n",
      "backcall==0.2.0\n",
      "blinker==1.4\n",
      "brotlipy==0.7.0\n",
      "cachetools @ file:///tmp/build/80754af9/cachetools_1596822027882/work\n",
      "certifi==2020.6.20\n",
      "cffi @ file:///C:/ci/cffi_1600699250966/work\n",
      "chardet==3.0.4\n",
      "click==7.1.2\n",
      "colorama @ file:///tmp/build/80754af9/colorama_1603211150991/work\n",
      "cryptography @ file:///C:/ci/cryptography_1601046913206/work\n",
      "cycler==0.10.0\n",
      "decorator==4.4.2\n",
      "flake8 @ file:///tmp/build/80754af9/flake8_1601911421857/work\n",
      "gast==0.2.2\n",
      "google-auth @ file:///tmp/build/80754af9/google-auth_1601995530934/work\n",
      "google-auth-oauthlib==0.4.1\n",
      "google-pasta==0.2.0\n",
      "grpcio @ file:///C:/ci/grpcio_1597406403308/work\n",
      "h5py==2.8.0\n",
      "idna @ file:///tmp/build/80754af9/idna_1593446292537/work\n",
      "importlib-metadata @ file:///tmp/build/80754af9/importlib-metadata_1602276842396/work\n",
      "ipykernel @ file:///C:/ci/ipykernel_1596208728219/work/dist/ipykernel-5.3.4-py3-none-any.whl\n",
      "ipython @ file:///C:/ci/ipython_1598883894321/work\n",
      "ipython-genutils==0.2.0\n",
      "jedi @ file:///C:/ci/jedi_1596472767194/work\n",
      "joblib==0.17.0\n",
      "jupyter-client @ file:///tmp/build/80754af9/jupyter_client_1601311786391/work\n",
      "jupyter-core==4.6.3\n",
      "Keras==2.3.1\n",
      "Keras-Applications @ file:///tmp/build/80754af9/keras-applications_1594366238411/work\n",
      "Keras-Preprocessing==1.1.0\n",
      "kiwisolver==1.2.0\n",
      "Markdown @ file:///C:/ci/markdown_1603216569530/work\n",
      "matplotlib @ file:///C:/ci/matplotlib-base_1597858387645/work\n",
      "mccabe==0.6.1\n",
      "mkl-fft==1.2.0\n",
      "mkl-random==1.1.1\n",
      "mkl-service==2.3.0\n",
      "multidict @ file:///C:/ci/multidict_1600456486794/work\n",
      "numpy @ file:///C:/ci/numpy_and_numpy_base_1596233945180/work\n",
      "oauthlib==3.1.0\n",
      "olefile==0.46\n",
      "opt-einsum==3.1.0\n",
      "pandas @ file:///C:/ci/pandas_1602088205210/work\n",
      "parso==0.7.0\n",
      "pickleshare @ file:///C:/ci/pickleshare_1594374056827/work\n",
      "Pillow @ file:///C:/ci/pillow_1602782968170/work\n",
      "prettytable==1.0.1\n",
      "prompt-toolkit @ file:///tmp/build/80754af9/prompt-toolkit_1602688806899/work\n",
      "protobuf==3.13.0\n",
      "pyasn1==0.4.8\n",
      "pyasn1-modules==0.2.8\n",
      "pycodestyle==2.6.0\n",
      "pycparser @ file:///tmp/build/80754af9/pycparser_1594388511720/work\n",
      "pyflakes==2.2.0\n",
      "Pygments @ file:///tmp/build/80754af9/pygments_1600458456400/work\n",
      "PyJWT==1.7.1\n",
      "pyOpenSSL @ file:///tmp/build/80754af9/pyopenssl_1594392929924/work\n",
      "pyparsing==2.4.7\n",
      "PySocks @ file:///C:/ci/pysocks_1594394709107/work\n",
      "python-dateutil==2.8.1\n",
      "pytz==2020.1\n",
      "pywin32==227\n",
      "PyYAML==5.3.1\n",
      "pyzmq==19.0.2\n",
      "requests @ file:///tmp/build/80754af9/requests_1592841827918/work\n",
      "requests-oauthlib==1.3.0\n",
      "rsa @ file:///tmp/build/80754af9/rsa_1596998415516/work\n",
      "scikit-learn==0.23.2\n",
      "scipy==1.1.0\n",
      "seaborn @ file:///tmp/build/80754af9/seaborn_1600553570093/work\n",
      "sip==4.19.24\n",
      "six==1.15.0\n",
      "sklearn==0.0\n",
      "tensorboard==2.2.1\n",
      "tensorboard-plugin-wit==1.6.0\n",
      "tensorflow==2.1.0\n",
      "tensorflow-estimator==2.1.0\n",
      "termcolor==1.1.0\n",
      "threadpoolctl==2.1.0\n",
      "toml @ file:///tmp/build/80754af9/toml_1592853716807/work\n",
      "tornado==6.0.4\n",
      "traitlets @ file:///tmp/build/80754af9/traitlets_1602787416690/work\n",
      "urllib3 @ file:///tmp/build/80754af9/urllib3_1603305693037/work\n",
      "wcwidth @ file:///tmp/build/80754af9/wcwidth_1593447189090/work\n",
      "Werkzeug==0.16.1\n",
      "win-inet-pton==1.1.0\n",
      "wincertstore==0.2\n",
      "wrapt==1.12.1\n",
      "yarl @ file:///C:/ci/yarl_1602679793616/work\n",
      "zipp @ file:///tmp/build/80754af9/zipp_1603306325174/work\n"
     ]
    }
   ],
   "source": [
    "!pip freeze"
   ]
  },
  {
   "cell_type": "code",
   "execution_count": 2,
   "metadata": {},
   "outputs": [],
   "source": [
    "# Load the TensorBoard notebook extension\n",
    "%load_ext tensorboard"
   ]
  },
  {
   "cell_type": "code",
   "execution_count": 3,
   "metadata": {},
   "outputs": [],
   "source": [
    "import tensorflow as tf\n",
    "import datetime"
   ]
  },
  {
   "cell_type": "code",
   "execution_count": 5,
   "metadata": {},
   "outputs": [
    {
     "output_type": "stream",
     "name": "stdout",
     "text": [
      "d:\\CodeRepo\\Thesis\\Thesis\\BiLSTM\\Model\n"
     ]
    }
   ],
   "source": [
    "import os\n",
    "print(os.getcwd())"
   ]
  },
  {
   "cell_type": "code",
   "execution_count": 4,
   "metadata": {},
   "outputs": [
    {
     "output_type": "display_data",
     "data": {
      "text/plain": "Reusing TensorBoard on port 6006 (pid 33688), started 0:06:55 ago. (Use '!kill 33688' to kill it.)"
     },
     "metadata": {}
    }
   ],
   "source": [
    "%tensorboard --logdir logs/fit"
   ]
  },
  {
   "cell_type": "code",
   "execution_count": null,
   "metadata": {},
   "outputs": [],
   "source": []
  }
 ],
 "metadata": {
  "kernelspec": {
   "name": "Python 3.7.9 64-bit ('LatestTensor': conda)",
   "display_name": "Python 3.7.9 64-bit ('LatestTensor': conda)",
   "metadata": {
    "interpreter": {
     "hash": "0a81886b5eca8297b0be132dcbdde71b7b9ccd4a2b9beb608173c0b9df0b440d"
    }
   }
  },
  "language_info": {
   "codemirror_mode": {
    "name": "ipython",
    "version": 3
   },
   "file_extension": ".py",
   "mimetype": "text/x-python",
   "name": "python",
   "nbconvert_exporter": "python",
   "pygments_lexer": "ipython3",
   "version": "3.7.9-final"
  }
 },
 "nbformat": 4,
 "nbformat_minor": 2
}